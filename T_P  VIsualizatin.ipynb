{
 "cells": [
  {
   "cell_type": "code",
   "execution_count": 2,
   "id": "f12d8f01",
   "metadata": {},
   "outputs": [],
   "source": [
    "import requests\n",
    "from bs4 import BeautifulSoup\n",
    "import pandas as pd\n",
    "import numpy as np\n",
    "import re"
   ]
  },
  {
   "cell_type": "code",
   "execution_count": 3,
   "id": "398b4000",
   "metadata": {},
   "outputs": [],
   "source": [
    "data=pd.read_csv(\"Final_result.csv\")"
   ]
  },
  {
   "cell_type": "code",
   "execution_count": 4,
   "id": "f265ce08",
   "metadata": {},
   "outputs": [
    {
     "data": {
      "text/html": [
       "<div>\n",
       "<style scoped>\n",
       "    .dataframe tbody tr th:only-of-type {\n",
       "        vertical-align: middle;\n",
       "    }\n",
       "\n",
       "    .dataframe tbody tr th {\n",
       "        vertical-align: top;\n",
       "    }\n",
       "\n",
       "    .dataframe thead th {\n",
       "        text-align: right;\n",
       "    }\n",
       "</style>\n",
       "<table border=\"1\" class=\"dataframe\">\n",
       "  <thead>\n",
       "    <tr style=\"text-align: right;\">\n",
       "      <th></th>\n",
       "      <th>Unnamed: 0</th>\n",
       "      <th>Building_Name</th>\n",
       "      <th>Building_type</th>\n",
       "      <th>Constructed_by</th>\n",
       "      <th>Price_in_cr</th>\n",
       "      <th>Location</th>\n",
       "      <th>Area_sq_ft</th>\n",
       "      <th>House_size</th>\n",
       "      <th>Prices_per_sqft</th>\n",
       "      <th>Building_Status</th>\n",
       "    </tr>\n",
       "  </thead>\n",
       "  <tbody>\n",
       "    <tr>\n",
       "      <th>0</th>\n",
       "      <td>0</td>\n",
       "      <td>Vajra The Royal Park</td>\n",
       "      <td>Apartment</td>\n",
       "      <td>Vajra Builders And DevelopersBUILDER0</td>\n",
       "      <td>4.47</td>\n",
       "      <td>Bowrampet, Hyderabad</td>\n",
       "      <td>1535</td>\n",
       "      <td>3</td>\n",
       "      <td>4,200</td>\n",
       "      <td>Under Construction</td>\n",
       "    </tr>\n",
       "    <tr>\n",
       "      <th>1</th>\n",
       "      <td>1</td>\n",
       "      <td>Vasavi Signature</td>\n",
       "      <td>Apartment</td>\n",
       "      <td>Vasavi GroupBUILDER0</td>\n",
       "      <td>1.82</td>\n",
       "      <td>Kukatpally, Hyderabad</td>\n",
       "      <td>2285</td>\n",
       "      <td>3</td>\n",
       "      <td>8,000</td>\n",
       "      <td>Ready to move</td>\n",
       "    </tr>\n",
       "    <tr>\n",
       "      <th>2</th>\n",
       "      <td>2</td>\n",
       "      <td>Riddhi Pramukh Elegance</td>\n",
       "      <td>Apartment</td>\n",
       "      <td>Riddhi GroupBUILDER0</td>\n",
       "      <td>7.58</td>\n",
       "      <td>Jeedimetla, Hyderabad</td>\n",
       "      <td>1510</td>\n",
       "      <td>3</td>\n",
       "      <td>5,800</td>\n",
       "      <td>Under Construction</td>\n",
       "    </tr>\n",
       "    <tr>\n",
       "      <th>3</th>\n",
       "      <td>3</td>\n",
       "      <td>Theme Imperial</td>\n",
       "      <td>Apartment</td>\n",
       "      <td>Theme Ambience InfrastructuresBUILDER0</td>\n",
       "      <td>1.80</td>\n",
       "      <td>Attapur, Hyderabad</td>\n",
       "      <td>2655</td>\n",
       "      <td>4</td>\n",
       "      <td>6,800</td>\n",
       "      <td>Under Construction</td>\n",
       "    </tr>\n",
       "    <tr>\n",
       "      <th>4</th>\n",
       "      <td>4</td>\n",
       "      <td>Signature Altius</td>\n",
       "      <td>Apartment</td>\n",
       "      <td>Signature AvenuesBUILDER0</td>\n",
       "      <td>1.21</td>\n",
       "      <td>Kollur, Hyderabad</td>\n",
       "      <td>2425</td>\n",
       "      <td>3</td>\n",
       "      <td>4,999</td>\n",
       "      <td>Under Construction</td>\n",
       "    </tr>\n",
       "    <tr>\n",
       "      <th>...</th>\n",
       "      <td>...</td>\n",
       "      <td>...</td>\n",
       "      <td>...</td>\n",
       "      <td>...</td>\n",
       "      <td>...</td>\n",
       "      <td>...</td>\n",
       "      <td>...</td>\n",
       "      <td>...</td>\n",
       "      <td>...</td>\n",
       "      <td>...</td>\n",
       "    </tr>\n",
       "    <tr>\n",
       "      <th>415</th>\n",
       "      <td>415</td>\n",
       "      <td>GHR Callisto</td>\n",
       "      <td>Apartment</td>\n",
       "      <td>GHR InfraBUILDER0</td>\n",
       "      <td>2.12</td>\n",
       "      <td>Kollur, Hyderabad</td>\n",
       "      <td>1195</td>\n",
       "      <td>2</td>\n",
       "      <td>5,199</td>\n",
       "      <td>Under Construction</td>\n",
       "    </tr>\n",
       "    <tr>\n",
       "      <th>416</th>\n",
       "      <td>416</td>\n",
       "      <td>Dinesh Auric</td>\n",
       "      <td>Apartment</td>\n",
       "      <td>Dinesh ProjectsBUILDER0</td>\n",
       "      <td>9.86</td>\n",
       "      <td>Bachupally, Hyderabad</td>\n",
       "      <td>1039</td>\n",
       "      <td>2</td>\n",
       "      <td>4,804</td>\n",
       "      <td>Under Construction</td>\n",
       "    </tr>\n",
       "    <tr>\n",
       "      <th>417</th>\n",
       "      <td>417</td>\n",
       "      <td>Namishree BPS Twin Towers</td>\n",
       "      <td>Apartment</td>\n",
       "      <td>Namishree Infrastructure And Project Pvt LtdBU...</td>\n",
       "      <td>1.02</td>\n",
       "      <td>Saidabad, Hyderabad</td>\n",
       "      <td>1705</td>\n",
       "      <td>3</td>\n",
       "      <td>6,000</td>\n",
       "      <td>Under Construction</td>\n",
       "    </tr>\n",
       "    <tr>\n",
       "      <th>418</th>\n",
       "      <td>418</td>\n",
       "      <td>Om Sree Gallaxy</td>\n",
       "      <td>Apartment</td>\n",
       "      <td>Om Sree Builders And DevelopersBUILDER0</td>\n",
       "      <td>8.41</td>\n",
       "      <td>Gundlapochampally, Hyderabad</td>\n",
       "      <td>1285</td>\n",
       "      <td>2</td>\n",
       "      <td>6,102</td>\n",
       "      <td>Under Construction</td>\n",
       "    </tr>\n",
       "    <tr>\n",
       "      <th>419</th>\n",
       "      <td>419</td>\n",
       "      <td>Vazhraa Vazhraa Prathik</td>\n",
       "      <td>Apartment</td>\n",
       "      <td>Vazhraa Nirmaan Pvt LtdBUILDER0</td>\n",
       "      <td>1.21</td>\n",
       "      <td>Nizampet, Hyderabad</td>\n",
       "      <td>1870</td>\n",
       "      <td>3</td>\n",
       "      <td>6,500</td>\n",
       "      <td>Under Construction</td>\n",
       "    </tr>\n",
       "  </tbody>\n",
       "</table>\n",
       "<p>420 rows × 10 columns</p>\n",
       "</div>"
      ],
      "text/plain": [
       "     Unnamed: 0              Building_Name Building_type  \\\n",
       "0             0       Vajra The Royal Park     Apartment   \n",
       "1             1           Vasavi Signature     Apartment   \n",
       "2             2    Riddhi Pramukh Elegance     Apartment   \n",
       "3             3             Theme Imperial     Apartment   \n",
       "4             4           Signature Altius     Apartment   \n",
       "..          ...                        ...           ...   \n",
       "415         415               GHR Callisto     Apartment   \n",
       "416         416               Dinesh Auric     Apartment   \n",
       "417         417  Namishree BPS Twin Towers     Apartment   \n",
       "418         418            Om Sree Gallaxy     Apartment   \n",
       "419         419    Vazhraa Vazhraa Prathik     Apartment   \n",
       "\n",
       "                                        Constructed_by  Price_in_cr  \\\n",
       "0                Vajra Builders And DevelopersBUILDER0         4.47   \n",
       "1                                 Vasavi GroupBUILDER0         1.82   \n",
       "2                                 Riddhi GroupBUILDER0         7.58   \n",
       "3               Theme Ambience InfrastructuresBUILDER0         1.80   \n",
       "4                            Signature AvenuesBUILDER0         1.21   \n",
       "..                                                 ...          ...   \n",
       "415                                  GHR InfraBUILDER0         2.12   \n",
       "416                            Dinesh ProjectsBUILDER0         9.86   \n",
       "417  Namishree Infrastructure And Project Pvt LtdBU...         1.02   \n",
       "418            Om Sree Builders And DevelopersBUILDER0         8.41   \n",
       "419                    Vazhraa Nirmaan Pvt LtdBUILDER0         1.21   \n",
       "\n",
       "                         Location  Area_sq_ft  House_size Prices_per_sqft  \\\n",
       "0            Bowrampet, Hyderabad        1535           3           4,200   \n",
       "1           Kukatpally, Hyderabad        2285           3           8,000   \n",
       "2           Jeedimetla, Hyderabad        1510           3           5,800   \n",
       "3              Attapur, Hyderabad        2655           4           6,800   \n",
       "4               Kollur, Hyderabad        2425           3           4,999   \n",
       "..                            ...         ...         ...             ...   \n",
       "415             Kollur, Hyderabad        1195           2           5,199   \n",
       "416         Bachupally, Hyderabad        1039           2           4,804   \n",
       "417           Saidabad, Hyderabad        1705           3           6,000   \n",
       "418  Gundlapochampally, Hyderabad        1285           2           6,102   \n",
       "419           Nizampet, Hyderabad        1870           3           6,500   \n",
       "\n",
       "        Building_Status  \n",
       "0    Under Construction  \n",
       "1         Ready to move  \n",
       "2    Under Construction  \n",
       "3    Under Construction  \n",
       "4    Under Construction  \n",
       "..                  ...  \n",
       "415  Under Construction  \n",
       "416  Under Construction  \n",
       "417  Under Construction  \n",
       "418  Under Construction  \n",
       "419  Under Construction  \n",
       "\n",
       "[420 rows x 10 columns]"
      ]
     },
     "execution_count": 4,
     "metadata": {},
     "output_type": "execute_result"
    }
   ],
   "source": [
    "data"
   ]
  },
  {
   "cell_type": "code",
   "execution_count": 5,
   "id": "1d56aecf",
   "metadata": {},
   "outputs": [],
   "source": [
    "data.drop([\"Unnamed: 0\"],axis=1,inplace=True)"
   ]
  },
  {
   "cell_type": "code",
   "execution_count": 6,
   "id": "e50c438f",
   "metadata": {},
   "outputs": [],
   "source": [
    "p1=[]\n",
    "for i in data[\"Prices_per_sqft\"]:\n",
    "    p1.append(i.replace(\",\",\"\"))"
   ]
  },
  {
   "cell_type": "code",
   "execution_count": 7,
   "id": "33025d6a",
   "metadata": {},
   "outputs": [],
   "source": [
    "data[\"Prices_per_sqft\"]=p1"
   ]
  },
  {
   "cell_type": "code",
   "execution_count": 8,
   "id": "1a0fd742",
   "metadata": {},
   "outputs": [
    {
     "data": {
      "text/html": [
       "<div>\n",
       "<style scoped>\n",
       "    .dataframe tbody tr th:only-of-type {\n",
       "        vertical-align: middle;\n",
       "    }\n",
       "\n",
       "    .dataframe tbody tr th {\n",
       "        vertical-align: top;\n",
       "    }\n",
       "\n",
       "    .dataframe thead th {\n",
       "        text-align: right;\n",
       "    }\n",
       "</style>\n",
       "<table border=\"1\" class=\"dataframe\">\n",
       "  <thead>\n",
       "    <tr style=\"text-align: right;\">\n",
       "      <th></th>\n",
       "      <th>Building_Name</th>\n",
       "      <th>Building_type</th>\n",
       "      <th>Constructed_by</th>\n",
       "      <th>Price_in_cr</th>\n",
       "      <th>Location</th>\n",
       "      <th>Area_sq_ft</th>\n",
       "      <th>House_size</th>\n",
       "      <th>Prices_per_sqft</th>\n",
       "      <th>Building_Status</th>\n",
       "    </tr>\n",
       "  </thead>\n",
       "  <tbody>\n",
       "    <tr>\n",
       "      <th>0</th>\n",
       "      <td>Vajra The Royal Park</td>\n",
       "      <td>Apartment</td>\n",
       "      <td>Vajra Builders And DevelopersBUILDER0</td>\n",
       "      <td>4.47</td>\n",
       "      <td>Bowrampet, Hyderabad</td>\n",
       "      <td>1535</td>\n",
       "      <td>3</td>\n",
       "      <td>4200</td>\n",
       "      <td>Under Construction</td>\n",
       "    </tr>\n",
       "    <tr>\n",
       "      <th>1</th>\n",
       "      <td>Vasavi Signature</td>\n",
       "      <td>Apartment</td>\n",
       "      <td>Vasavi GroupBUILDER0</td>\n",
       "      <td>1.82</td>\n",
       "      <td>Kukatpally, Hyderabad</td>\n",
       "      <td>2285</td>\n",
       "      <td>3</td>\n",
       "      <td>8000</td>\n",
       "      <td>Ready to move</td>\n",
       "    </tr>\n",
       "    <tr>\n",
       "      <th>2</th>\n",
       "      <td>Riddhi Pramukh Elegance</td>\n",
       "      <td>Apartment</td>\n",
       "      <td>Riddhi GroupBUILDER0</td>\n",
       "      <td>7.58</td>\n",
       "      <td>Jeedimetla, Hyderabad</td>\n",
       "      <td>1510</td>\n",
       "      <td>3</td>\n",
       "      <td>5800</td>\n",
       "      <td>Under Construction</td>\n",
       "    </tr>\n",
       "    <tr>\n",
       "      <th>3</th>\n",
       "      <td>Theme Imperial</td>\n",
       "      <td>Apartment</td>\n",
       "      <td>Theme Ambience InfrastructuresBUILDER0</td>\n",
       "      <td>1.80</td>\n",
       "      <td>Attapur, Hyderabad</td>\n",
       "      <td>2655</td>\n",
       "      <td>4</td>\n",
       "      <td>6800</td>\n",
       "      <td>Under Construction</td>\n",
       "    </tr>\n",
       "    <tr>\n",
       "      <th>4</th>\n",
       "      <td>Signature Altius</td>\n",
       "      <td>Apartment</td>\n",
       "      <td>Signature AvenuesBUILDER0</td>\n",
       "      <td>1.21</td>\n",
       "      <td>Kollur, Hyderabad</td>\n",
       "      <td>2425</td>\n",
       "      <td>3</td>\n",
       "      <td>4999</td>\n",
       "      <td>Under Construction</td>\n",
       "    </tr>\n",
       "    <tr>\n",
       "      <th>...</th>\n",
       "      <td>...</td>\n",
       "      <td>...</td>\n",
       "      <td>...</td>\n",
       "      <td>...</td>\n",
       "      <td>...</td>\n",
       "      <td>...</td>\n",
       "      <td>...</td>\n",
       "      <td>...</td>\n",
       "      <td>...</td>\n",
       "    </tr>\n",
       "    <tr>\n",
       "      <th>415</th>\n",
       "      <td>GHR Callisto</td>\n",
       "      <td>Apartment</td>\n",
       "      <td>GHR InfraBUILDER0</td>\n",
       "      <td>2.12</td>\n",
       "      <td>Kollur, Hyderabad</td>\n",
       "      <td>1195</td>\n",
       "      <td>2</td>\n",
       "      <td>5199</td>\n",
       "      <td>Under Construction</td>\n",
       "    </tr>\n",
       "    <tr>\n",
       "      <th>416</th>\n",
       "      <td>Dinesh Auric</td>\n",
       "      <td>Apartment</td>\n",
       "      <td>Dinesh ProjectsBUILDER0</td>\n",
       "      <td>9.86</td>\n",
       "      <td>Bachupally, Hyderabad</td>\n",
       "      <td>1039</td>\n",
       "      <td>2</td>\n",
       "      <td>4804</td>\n",
       "      <td>Under Construction</td>\n",
       "    </tr>\n",
       "    <tr>\n",
       "      <th>417</th>\n",
       "      <td>Namishree BPS Twin Towers</td>\n",
       "      <td>Apartment</td>\n",
       "      <td>Namishree Infrastructure And Project Pvt LtdBU...</td>\n",
       "      <td>1.02</td>\n",
       "      <td>Saidabad, Hyderabad</td>\n",
       "      <td>1705</td>\n",
       "      <td>3</td>\n",
       "      <td>6000</td>\n",
       "      <td>Under Construction</td>\n",
       "    </tr>\n",
       "    <tr>\n",
       "      <th>418</th>\n",
       "      <td>Om Sree Gallaxy</td>\n",
       "      <td>Apartment</td>\n",
       "      <td>Om Sree Builders And DevelopersBUILDER0</td>\n",
       "      <td>8.41</td>\n",
       "      <td>Gundlapochampally, Hyderabad</td>\n",
       "      <td>1285</td>\n",
       "      <td>2</td>\n",
       "      <td>6102</td>\n",
       "      <td>Under Construction</td>\n",
       "    </tr>\n",
       "    <tr>\n",
       "      <th>419</th>\n",
       "      <td>Vazhraa Vazhraa Prathik</td>\n",
       "      <td>Apartment</td>\n",
       "      <td>Vazhraa Nirmaan Pvt LtdBUILDER0</td>\n",
       "      <td>1.21</td>\n",
       "      <td>Nizampet, Hyderabad</td>\n",
       "      <td>1870</td>\n",
       "      <td>3</td>\n",
       "      <td>6500</td>\n",
       "      <td>Under Construction</td>\n",
       "    </tr>\n",
       "  </tbody>\n",
       "</table>\n",
       "<p>420 rows × 9 columns</p>\n",
       "</div>"
      ],
      "text/plain": [
       "                 Building_Name Building_type  \\\n",
       "0         Vajra The Royal Park     Apartment   \n",
       "1             Vasavi Signature     Apartment   \n",
       "2      Riddhi Pramukh Elegance     Apartment   \n",
       "3               Theme Imperial     Apartment   \n",
       "4             Signature Altius     Apartment   \n",
       "..                         ...           ...   \n",
       "415               GHR Callisto     Apartment   \n",
       "416               Dinesh Auric     Apartment   \n",
       "417  Namishree BPS Twin Towers     Apartment   \n",
       "418            Om Sree Gallaxy     Apartment   \n",
       "419    Vazhraa Vazhraa Prathik     Apartment   \n",
       "\n",
       "                                        Constructed_by  Price_in_cr  \\\n",
       "0                Vajra Builders And DevelopersBUILDER0         4.47   \n",
       "1                                 Vasavi GroupBUILDER0         1.82   \n",
       "2                                 Riddhi GroupBUILDER0         7.58   \n",
       "3               Theme Ambience InfrastructuresBUILDER0         1.80   \n",
       "4                            Signature AvenuesBUILDER0         1.21   \n",
       "..                                                 ...          ...   \n",
       "415                                  GHR InfraBUILDER0         2.12   \n",
       "416                            Dinesh ProjectsBUILDER0         9.86   \n",
       "417  Namishree Infrastructure And Project Pvt LtdBU...         1.02   \n",
       "418            Om Sree Builders And DevelopersBUILDER0         8.41   \n",
       "419                    Vazhraa Nirmaan Pvt LtdBUILDER0         1.21   \n",
       "\n",
       "                         Location  Area_sq_ft  House_size Prices_per_sqft  \\\n",
       "0            Bowrampet, Hyderabad        1535           3            4200   \n",
       "1           Kukatpally, Hyderabad        2285           3            8000   \n",
       "2           Jeedimetla, Hyderabad        1510           3            5800   \n",
       "3              Attapur, Hyderabad        2655           4            6800   \n",
       "4               Kollur, Hyderabad        2425           3            4999   \n",
       "..                            ...         ...         ...             ...   \n",
       "415             Kollur, Hyderabad        1195           2            5199   \n",
       "416         Bachupally, Hyderabad        1039           2            4804   \n",
       "417           Saidabad, Hyderabad        1705           3            6000   \n",
       "418  Gundlapochampally, Hyderabad        1285           2            6102   \n",
       "419           Nizampet, Hyderabad        1870           3            6500   \n",
       "\n",
       "        Building_Status  \n",
       "0    Under Construction  \n",
       "1         Ready to move  \n",
       "2    Under Construction  \n",
       "3    Under Construction  \n",
       "4    Under Construction  \n",
       "..                  ...  \n",
       "415  Under Construction  \n",
       "416  Under Construction  \n",
       "417  Under Construction  \n",
       "418  Under Construction  \n",
       "419  Under Construction  \n",
       "\n",
       "[420 rows x 9 columns]"
      ]
     },
     "execution_count": 8,
     "metadata": {},
     "output_type": "execute_result"
    }
   ],
   "source": [
    "data"
   ]
  },
  {
   "cell_type": "code",
   "execution_count": 9,
   "id": "d0d9a62c",
   "metadata": {},
   "outputs": [],
   "source": [
    "p1=[]\n",
    "for i in data[\"Location\"]:\n",
    "    p1.append(i.replace(\"Hyderabad\",\"\"))"
   ]
  },
  {
   "cell_type": "code",
   "execution_count": 10,
   "id": "23510409",
   "metadata": {},
   "outputs": [],
   "source": [
    " data[\"Location\"]=p1"
   ]
  },
  {
   "cell_type": "code",
   "execution_count": 11,
   "id": "8a963dd0",
   "metadata": {},
   "outputs": [],
   "source": [
    "p2=[]\n",
    "for i in data[\"Location\"]:\n",
    "    p2.append(i.replace(\",\",\"\"))"
   ]
  },
  {
   "cell_type": "code",
   "execution_count": 12,
   "id": "68eb30c3",
   "metadata": {},
   "outputs": [],
   "source": [
    "data[\"Location\"]=p2"
   ]
  },
  {
   "cell_type": "code",
   "execution_count": 13,
   "id": "218f2bcc",
   "metadata": {},
   "outputs": [],
   "source": [
    "p3=[]\n",
    "for i in data[\"Constructed_by\"]:\n",
    "    p3.append(i.replace(\"BUILDER0\",\"\"))"
   ]
  },
  {
   "cell_type": "code",
   "execution_count": 14,
   "id": "bd454653",
   "metadata": {},
   "outputs": [],
   "source": [
    "data[\"Constructed_by\"]=p3"
   ]
  },
  {
   "cell_type": "code",
   "execution_count": 15,
   "id": "dc910caf",
   "metadata": {},
   "outputs": [
    {
     "data": {
      "text/html": [
       "<div>\n",
       "<style scoped>\n",
       "    .dataframe tbody tr th:only-of-type {\n",
       "        vertical-align: middle;\n",
       "    }\n",
       "\n",
       "    .dataframe tbody tr th {\n",
       "        vertical-align: top;\n",
       "    }\n",
       "\n",
       "    .dataframe thead th {\n",
       "        text-align: right;\n",
       "    }\n",
       "</style>\n",
       "<table border=\"1\" class=\"dataframe\">\n",
       "  <thead>\n",
       "    <tr style=\"text-align: right;\">\n",
       "      <th></th>\n",
       "      <th>Building_Name</th>\n",
       "      <th>Building_type</th>\n",
       "      <th>Constructed_by</th>\n",
       "      <th>Price_in_cr</th>\n",
       "      <th>Location</th>\n",
       "      <th>Area_sq_ft</th>\n",
       "      <th>House_size</th>\n",
       "      <th>Prices_per_sqft</th>\n",
       "      <th>Building_Status</th>\n",
       "    </tr>\n",
       "  </thead>\n",
       "  <tbody>\n",
       "    <tr>\n",
       "      <th>0</th>\n",
       "      <td>Vajra The Royal Park</td>\n",
       "      <td>Apartment</td>\n",
       "      <td>Vajra Builders And Developers</td>\n",
       "      <td>4.47</td>\n",
       "      <td>Bowrampet</td>\n",
       "      <td>1535</td>\n",
       "      <td>3</td>\n",
       "      <td>4200</td>\n",
       "      <td>Under Construction</td>\n",
       "    </tr>\n",
       "    <tr>\n",
       "      <th>1</th>\n",
       "      <td>Vasavi Signature</td>\n",
       "      <td>Apartment</td>\n",
       "      <td>Vasavi Group</td>\n",
       "      <td>1.82</td>\n",
       "      <td>Kukatpally</td>\n",
       "      <td>2285</td>\n",
       "      <td>3</td>\n",
       "      <td>8000</td>\n",
       "      <td>Ready to move</td>\n",
       "    </tr>\n",
       "    <tr>\n",
       "      <th>2</th>\n",
       "      <td>Riddhi Pramukh Elegance</td>\n",
       "      <td>Apartment</td>\n",
       "      <td>Riddhi Group</td>\n",
       "      <td>7.58</td>\n",
       "      <td>Jeedimetla</td>\n",
       "      <td>1510</td>\n",
       "      <td>3</td>\n",
       "      <td>5800</td>\n",
       "      <td>Under Construction</td>\n",
       "    </tr>\n",
       "    <tr>\n",
       "      <th>3</th>\n",
       "      <td>Theme Imperial</td>\n",
       "      <td>Apartment</td>\n",
       "      <td>Theme Ambience Infrastructures</td>\n",
       "      <td>1.80</td>\n",
       "      <td>Attapur</td>\n",
       "      <td>2655</td>\n",
       "      <td>4</td>\n",
       "      <td>6800</td>\n",
       "      <td>Under Construction</td>\n",
       "    </tr>\n",
       "    <tr>\n",
       "      <th>4</th>\n",
       "      <td>Signature Altius</td>\n",
       "      <td>Apartment</td>\n",
       "      <td>Signature Avenues</td>\n",
       "      <td>1.21</td>\n",
       "      <td>Kollur</td>\n",
       "      <td>2425</td>\n",
       "      <td>3</td>\n",
       "      <td>4999</td>\n",
       "      <td>Under Construction</td>\n",
       "    </tr>\n",
       "    <tr>\n",
       "      <th>...</th>\n",
       "      <td>...</td>\n",
       "      <td>...</td>\n",
       "      <td>...</td>\n",
       "      <td>...</td>\n",
       "      <td>...</td>\n",
       "      <td>...</td>\n",
       "      <td>...</td>\n",
       "      <td>...</td>\n",
       "      <td>...</td>\n",
       "    </tr>\n",
       "    <tr>\n",
       "      <th>415</th>\n",
       "      <td>GHR Callisto</td>\n",
       "      <td>Apartment</td>\n",
       "      <td>GHR Infra</td>\n",
       "      <td>2.12</td>\n",
       "      <td>Kollur</td>\n",
       "      <td>1195</td>\n",
       "      <td>2</td>\n",
       "      <td>5199</td>\n",
       "      <td>Under Construction</td>\n",
       "    </tr>\n",
       "    <tr>\n",
       "      <th>416</th>\n",
       "      <td>Dinesh Auric</td>\n",
       "      <td>Apartment</td>\n",
       "      <td>Dinesh Projects</td>\n",
       "      <td>9.86</td>\n",
       "      <td>Bachupally</td>\n",
       "      <td>1039</td>\n",
       "      <td>2</td>\n",
       "      <td>4804</td>\n",
       "      <td>Under Construction</td>\n",
       "    </tr>\n",
       "    <tr>\n",
       "      <th>417</th>\n",
       "      <td>Namishree BPS Twin Towers</td>\n",
       "      <td>Apartment</td>\n",
       "      <td>Namishree Infrastructure And Project Pvt Ltd</td>\n",
       "      <td>1.02</td>\n",
       "      <td>Saidabad</td>\n",
       "      <td>1705</td>\n",
       "      <td>3</td>\n",
       "      <td>6000</td>\n",
       "      <td>Under Construction</td>\n",
       "    </tr>\n",
       "    <tr>\n",
       "      <th>418</th>\n",
       "      <td>Om Sree Gallaxy</td>\n",
       "      <td>Apartment</td>\n",
       "      <td>Om Sree Builders And Developers</td>\n",
       "      <td>8.41</td>\n",
       "      <td>Gundlapochampally</td>\n",
       "      <td>1285</td>\n",
       "      <td>2</td>\n",
       "      <td>6102</td>\n",
       "      <td>Under Construction</td>\n",
       "    </tr>\n",
       "    <tr>\n",
       "      <th>419</th>\n",
       "      <td>Vazhraa Vazhraa Prathik</td>\n",
       "      <td>Apartment</td>\n",
       "      <td>Vazhraa Nirmaan Pvt Ltd</td>\n",
       "      <td>1.21</td>\n",
       "      <td>Nizampet</td>\n",
       "      <td>1870</td>\n",
       "      <td>3</td>\n",
       "      <td>6500</td>\n",
       "      <td>Under Construction</td>\n",
       "    </tr>\n",
       "  </tbody>\n",
       "</table>\n",
       "<p>420 rows × 9 columns</p>\n",
       "</div>"
      ],
      "text/plain": [
       "                 Building_Name Building_type  \\\n",
       "0         Vajra The Royal Park     Apartment   \n",
       "1             Vasavi Signature     Apartment   \n",
       "2      Riddhi Pramukh Elegance     Apartment   \n",
       "3               Theme Imperial     Apartment   \n",
       "4             Signature Altius     Apartment   \n",
       "..                         ...           ...   \n",
       "415               GHR Callisto     Apartment   \n",
       "416               Dinesh Auric     Apartment   \n",
       "417  Namishree BPS Twin Towers     Apartment   \n",
       "418            Om Sree Gallaxy     Apartment   \n",
       "419    Vazhraa Vazhraa Prathik     Apartment   \n",
       "\n",
       "                                   Constructed_by  Price_in_cr  \\\n",
       "0                   Vajra Builders And Developers         4.47   \n",
       "1                                    Vasavi Group         1.82   \n",
       "2                                    Riddhi Group         7.58   \n",
       "3                  Theme Ambience Infrastructures         1.80   \n",
       "4                               Signature Avenues         1.21   \n",
       "..                                            ...          ...   \n",
       "415                                     GHR Infra         2.12   \n",
       "416                               Dinesh Projects         9.86   \n",
       "417  Namishree Infrastructure And Project Pvt Ltd         1.02   \n",
       "418               Om Sree Builders And Developers         8.41   \n",
       "419                       Vazhraa Nirmaan Pvt Ltd         1.21   \n",
       "\n",
       "               Location  Area_sq_ft  House_size Prices_per_sqft  \\\n",
       "0            Bowrampet         1535           3            4200   \n",
       "1           Kukatpally         2285           3            8000   \n",
       "2           Jeedimetla         1510           3            5800   \n",
       "3              Attapur         2655           4            6800   \n",
       "4               Kollur         2425           3            4999   \n",
       "..                  ...         ...         ...             ...   \n",
       "415             Kollur         1195           2            5199   \n",
       "416         Bachupally         1039           2            4804   \n",
       "417           Saidabad         1705           3            6000   \n",
       "418  Gundlapochampally         1285           2            6102   \n",
       "419           Nizampet         1870           3            6500   \n",
       "\n",
       "        Building_Status  \n",
       "0    Under Construction  \n",
       "1         Ready to move  \n",
       "2    Under Construction  \n",
       "3    Under Construction  \n",
       "4    Under Construction  \n",
       "..                  ...  \n",
       "415  Under Construction  \n",
       "416  Under Construction  \n",
       "417  Under Construction  \n",
       "418  Under Construction  \n",
       "419  Under Construction  \n",
       "\n",
       "[420 rows x 9 columns]"
      ]
     },
     "execution_count": 15,
     "metadata": {},
     "output_type": "execute_result"
    }
   ],
   "source": [
    "data"
   ]
  },
  {
   "cell_type": "code",
   "execution_count": 16,
   "id": "72c8f0a0",
   "metadata": {},
   "outputs": [],
   "source": [
    "## type casting\n",
    "data[\"Prices_per_sqft\"]=data[\"Prices_per_sqft\"].astype(\"int\")"
   ]
  },
  {
   "cell_type": "code",
   "execution_count": 17,
   "id": "8e235cf1",
   "metadata": {},
   "outputs": [
    {
     "data": {
      "text/html": [
       "<div>\n",
       "<style scoped>\n",
       "    .dataframe tbody tr th:only-of-type {\n",
       "        vertical-align: middle;\n",
       "    }\n",
       "\n",
       "    .dataframe tbody tr th {\n",
       "        vertical-align: top;\n",
       "    }\n",
       "\n",
       "    .dataframe thead th {\n",
       "        text-align: right;\n",
       "    }\n",
       "</style>\n",
       "<table border=\"1\" class=\"dataframe\">\n",
       "  <thead>\n",
       "    <tr style=\"text-align: right;\">\n",
       "      <th></th>\n",
       "      <th>Building_Name</th>\n",
       "      <th>Building_type</th>\n",
       "      <th>Constructed_by</th>\n",
       "      <th>Location</th>\n",
       "      <th>Building_Status</th>\n",
       "    </tr>\n",
       "  </thead>\n",
       "  <tbody>\n",
       "    <tr>\n",
       "      <th>count</th>\n",
       "      <td>420</td>\n",
       "      <td>420</td>\n",
       "      <td>420</td>\n",
       "      <td>420</td>\n",
       "      <td>420</td>\n",
       "    </tr>\n",
       "    <tr>\n",
       "      <th>unique</th>\n",
       "      <td>20</td>\n",
       "      <td>2</td>\n",
       "      <td>20</td>\n",
       "      <td>16</td>\n",
       "      <td>2</td>\n",
       "    </tr>\n",
       "    <tr>\n",
       "      <th>top</th>\n",
       "      <td>Vajra The Royal Park</td>\n",
       "      <td>Apartment</td>\n",
       "      <td>Vajra Builders And Developers</td>\n",
       "      <td>Kollur</td>\n",
       "      <td>Under Construction</td>\n",
       "    </tr>\n",
       "    <tr>\n",
       "      <th>freq</th>\n",
       "      <td>21</td>\n",
       "      <td>399</td>\n",
       "      <td>21</td>\n",
       "      <td>63</td>\n",
       "      <td>399</td>\n",
       "    </tr>\n",
       "  </tbody>\n",
       "</table>\n",
       "</div>"
      ],
      "text/plain": [
       "               Building_Name Building_type                 Constructed_by  \\\n",
       "count                    420           420                            420   \n",
       "unique                    20             2                             20   \n",
       "top     Vajra The Royal Park     Apartment  Vajra Builders And Developers   \n",
       "freq                      21           399                             21   \n",
       "\n",
       "       Location     Building_Status  \n",
       "count       420                 420  \n",
       "unique       16                   2  \n",
       "top     Kollur   Under Construction  \n",
       "freq         63                 399  "
      ]
     },
     "execution_count": 17,
     "metadata": {},
     "output_type": "execute_result"
    }
   ],
   "source": [
    "data.describe(include=\"O\")"
   ]
  },
  {
   "cell_type": "code",
   "execution_count": 18,
   "id": "cfa8e996",
   "metadata": {},
   "outputs": [
    {
     "name": "stdout",
     "output_type": "stream",
     "text": [
      "<class 'pandas.core.frame.DataFrame'>\n",
      "RangeIndex: 420 entries, 0 to 419\n",
      "Data columns (total 9 columns):\n",
      " #   Column           Non-Null Count  Dtype  \n",
      "---  ------           --------------  -----  \n",
      " 0   Building_Name    420 non-null    object \n",
      " 1   Building_type    420 non-null    object \n",
      " 2   Constructed_by   420 non-null    object \n",
      " 3   Price_in_cr      420 non-null    float64\n",
      " 4   Location         420 non-null    object \n",
      " 5   Area_sq_ft       420 non-null    int64  \n",
      " 6   House_size       420 non-null    int64  \n",
      " 7   Prices_per_sqft  420 non-null    int32  \n",
      " 8   Building_Status  420 non-null    object \n",
      "dtypes: float64(1), int32(1), int64(2), object(5)\n",
      "memory usage: 28.0+ KB\n"
     ]
    }
   ],
   "source": [
    "data.info()"
   ]
  },
  {
   "cell_type": "code",
   "execution_count": null,
   "id": "be07da70",
   "metadata": {},
   "outputs": [],
   "source": []
  },
  {
   "cell_type": "code",
   "execution_count": 19,
   "id": "86d1dd62",
   "metadata": {},
   "outputs": [
    {
     "data": {
      "text/plain": [
       "Index(['Building_Name', 'Building_type', 'Constructed_by', 'Price_in_cr',\n",
       "       'Location', 'Area_sq_ft', 'House_size', 'Prices_per_sqft',\n",
       "       'Building_Status'],\n",
       "      dtype='object')"
      ]
     },
     "execution_count": 19,
     "metadata": {},
     "output_type": "execute_result"
    }
   ],
   "source": [
    "data.columns"
   ]
  },
  {
   "cell_type": "code",
   "execution_count": 20,
   "id": "f1f23787",
   "metadata": {},
   "outputs": [
    {
     "data": {
      "text/html": [
       "<div>\n",
       "<style scoped>\n",
       "    .dataframe tbody tr th:only-of-type {\n",
       "        vertical-align: middle;\n",
       "    }\n",
       "\n",
       "    .dataframe tbody tr th {\n",
       "        vertical-align: top;\n",
       "    }\n",
       "\n",
       "    .dataframe thead th {\n",
       "        text-align: right;\n",
       "    }\n",
       "</style>\n",
       "<table border=\"1\" class=\"dataframe\">\n",
       "  <thead>\n",
       "    <tr style=\"text-align: right;\">\n",
       "      <th></th>\n",
       "      <th>count</th>\n",
       "      <th>unique</th>\n",
       "      <th>top</th>\n",
       "      <th>freq</th>\n",
       "      <th>mean</th>\n",
       "      <th>std</th>\n",
       "      <th>min</th>\n",
       "      <th>25%</th>\n",
       "      <th>50%</th>\n",
       "      <th>75%</th>\n",
       "      <th>max</th>\n",
       "    </tr>\n",
       "  </thead>\n",
       "  <tbody>\n",
       "    <tr>\n",
       "      <th>Building_Name</th>\n",
       "      <td>420</td>\n",
       "      <td>20</td>\n",
       "      <td>Vajra The Royal Park</td>\n",
       "      <td>21</td>\n",
       "      <td>NaN</td>\n",
       "      <td>NaN</td>\n",
       "      <td>NaN</td>\n",
       "      <td>NaN</td>\n",
       "      <td>NaN</td>\n",
       "      <td>NaN</td>\n",
       "      <td>NaN</td>\n",
       "    </tr>\n",
       "    <tr>\n",
       "      <th>Building_type</th>\n",
       "      <td>420</td>\n",
       "      <td>2</td>\n",
       "      <td>Apartment</td>\n",
       "      <td>399</td>\n",
       "      <td>NaN</td>\n",
       "      <td>NaN</td>\n",
       "      <td>NaN</td>\n",
       "      <td>NaN</td>\n",
       "      <td>NaN</td>\n",
       "      <td>NaN</td>\n",
       "      <td>NaN</td>\n",
       "    </tr>\n",
       "    <tr>\n",
       "      <th>Constructed_by</th>\n",
       "      <td>420</td>\n",
       "      <td>20</td>\n",
       "      <td>Vajra Builders And Developers</td>\n",
       "      <td>21</td>\n",
       "      <td>NaN</td>\n",
       "      <td>NaN</td>\n",
       "      <td>NaN</td>\n",
       "      <td>NaN</td>\n",
       "      <td>NaN</td>\n",
       "      <td>NaN</td>\n",
       "      <td>NaN</td>\n",
       "    </tr>\n",
       "    <tr>\n",
       "      <th>Price_in_cr</th>\n",
       "      <td>420.0</td>\n",
       "      <td>NaN</td>\n",
       "      <td>NaN</td>\n",
       "      <td>NaN</td>\n",
       "      <td>3.805</td>\n",
       "      <td>3.234803</td>\n",
       "      <td>1.02</td>\n",
       "      <td>1.21</td>\n",
       "      <td>1.97</td>\n",
       "      <td>5.3975</td>\n",
       "      <td>9.98</td>\n",
       "    </tr>\n",
       "    <tr>\n",
       "      <th>Location</th>\n",
       "      <td>420</td>\n",
       "      <td>16</td>\n",
       "      <td>Kollur</td>\n",
       "      <td>63</td>\n",
       "      <td>NaN</td>\n",
       "      <td>NaN</td>\n",
       "      <td>NaN</td>\n",
       "      <td>NaN</td>\n",
       "      <td>NaN</td>\n",
       "      <td>NaN</td>\n",
       "      <td>NaN</td>\n",
       "    </tr>\n",
       "    <tr>\n",
       "      <th>Area_sq_ft</th>\n",
       "      <td>420.0</td>\n",
       "      <td>NaN</td>\n",
       "      <td>NaN</td>\n",
       "      <td>NaN</td>\n",
       "      <td>2134.95</td>\n",
       "      <td>1649.930284</td>\n",
       "      <td>1039.0</td>\n",
       "      <td>1408.75</td>\n",
       "      <td>1787.5</td>\n",
       "      <td>2287.25</td>\n",
       "      <td>9000.0</td>\n",
       "    </tr>\n",
       "    <tr>\n",
       "      <th>House_size</th>\n",
       "      <td>420.0</td>\n",
       "      <td>NaN</td>\n",
       "      <td>NaN</td>\n",
       "      <td>NaN</td>\n",
       "      <td>2.85</td>\n",
       "      <td>0.727158</td>\n",
       "      <td>2.0</td>\n",
       "      <td>2.0</td>\n",
       "      <td>3.0</td>\n",
       "      <td>3.0</td>\n",
       "      <td>5.0</td>\n",
       "    </tr>\n",
       "    <tr>\n",
       "      <th>Prices_per_sqft</th>\n",
       "      <td>420.0</td>\n",
       "      <td>NaN</td>\n",
       "      <td>NaN</td>\n",
       "      <td>NaN</td>\n",
       "      <td>6124.55</td>\n",
       "      <td>1809.882973</td>\n",
       "      <td>3499.0</td>\n",
       "      <td>4876.0</td>\n",
       "      <td>5650.0</td>\n",
       "      <td>6575.0</td>\n",
       "      <td>10334.0</td>\n",
       "    </tr>\n",
       "    <tr>\n",
       "      <th>Building_Status</th>\n",
       "      <td>420</td>\n",
       "      <td>2</td>\n",
       "      <td>Under Construction</td>\n",
       "      <td>399</td>\n",
       "      <td>NaN</td>\n",
       "      <td>NaN</td>\n",
       "      <td>NaN</td>\n",
       "      <td>NaN</td>\n",
       "      <td>NaN</td>\n",
       "      <td>NaN</td>\n",
       "      <td>NaN</td>\n",
       "    </tr>\n",
       "  </tbody>\n",
       "</table>\n",
       "</div>"
      ],
      "text/plain": [
       "                 count unique                            top freq     mean  \\\n",
       "Building_Name      420     20           Vajra The Royal Park   21      NaN   \n",
       "Building_type      420      2                      Apartment  399      NaN   \n",
       "Constructed_by     420     20  Vajra Builders And Developers   21      NaN   \n",
       "Price_in_cr      420.0    NaN                            NaN  NaN    3.805   \n",
       "Location           420     16                        Kollur    63      NaN   \n",
       "Area_sq_ft       420.0    NaN                            NaN  NaN  2134.95   \n",
       "House_size       420.0    NaN                            NaN  NaN     2.85   \n",
       "Prices_per_sqft  420.0    NaN                            NaN  NaN  6124.55   \n",
       "Building_Status    420      2             Under Construction  399      NaN   \n",
       "\n",
       "                         std     min      25%     50%      75%      max  \n",
       "Building_Name            NaN     NaN      NaN     NaN      NaN      NaN  \n",
       "Building_type            NaN     NaN      NaN     NaN      NaN      NaN  \n",
       "Constructed_by           NaN     NaN      NaN     NaN      NaN      NaN  \n",
       "Price_in_cr         3.234803    1.02     1.21    1.97   5.3975     9.98  \n",
       "Location                 NaN     NaN      NaN     NaN      NaN      NaN  \n",
       "Area_sq_ft       1649.930284  1039.0  1408.75  1787.5  2287.25   9000.0  \n",
       "House_size          0.727158     2.0      2.0     3.0      3.0      5.0  \n",
       "Prices_per_sqft  1809.882973  3499.0   4876.0  5650.0   6575.0  10334.0  \n",
       "Building_Status          NaN     NaN      NaN     NaN      NaN      NaN  "
      ]
     },
     "execution_count": 20,
     "metadata": {},
     "output_type": "execute_result"
    }
   ],
   "source": [
    "data.describe(include ='all').T"
   ]
  },
  {
   "cell_type": "markdown",
   "id": "859fcfb2",
   "metadata": {},
   "source": [
    "## univariate analysis"
   ]
  },
  {
   "cell_type": "code",
   "execution_count": 21,
   "id": "dd576537",
   "metadata": {},
   "outputs": [],
   "source": [
    "import matplotlib.pyplot as plt\n",
    "import seaborn as sns\n",
    "import pandas as pd\n",
    "import numpy as np"
   ]
  },
  {
   "cell_type": "code",
   "execution_count": 22,
   "id": "d573cbb2",
   "metadata": {},
   "outputs": [
    {
     "data": {
      "text/plain": [
       "Under Construction    399\n",
       "Ready to move          21\n",
       "Name: Building_Status, dtype: int64"
      ]
     },
     "execution_count": 22,
     "metadata": {},
     "output_type": "execute_result"
    }
   ],
   "source": [
    "data[\"Building_Status\"].value_counts()"
   ]
  },
  {
   "cell_type": "code",
   "execution_count": 23,
   "id": "69317b28",
   "metadata": {},
   "outputs": [],
   "source": [
    "a=pd.DataFrame(data[\"Building_Status\"].value_counts())"
   ]
  },
  {
   "cell_type": "code",
   "execution_count": 24,
   "id": "f09e29bf",
   "metadata": {},
   "outputs": [
    {
     "data": {
      "text/html": [
       "<div>\n",
       "<style scoped>\n",
       "    .dataframe tbody tr th:only-of-type {\n",
       "        vertical-align: middle;\n",
       "    }\n",
       "\n",
       "    .dataframe tbody tr th {\n",
       "        vertical-align: top;\n",
       "    }\n",
       "\n",
       "    .dataframe thead th {\n",
       "        text-align: right;\n",
       "    }\n",
       "</style>\n",
       "<table border=\"1\" class=\"dataframe\">\n",
       "  <thead>\n",
       "    <tr style=\"text-align: right;\">\n",
       "      <th></th>\n",
       "      <th>Building_Status</th>\n",
       "    </tr>\n",
       "  </thead>\n",
       "  <tbody>\n",
       "    <tr>\n",
       "      <th>Under Construction</th>\n",
       "      <td>399</td>\n",
       "    </tr>\n",
       "    <tr>\n",
       "      <th>Ready to move</th>\n",
       "      <td>21</td>\n",
       "    </tr>\n",
       "  </tbody>\n",
       "</table>\n",
       "</div>"
      ],
      "text/plain": [
       "                    Building_Status\n",
       "Under Construction              399\n",
       "Ready to move                    21"
      ]
     },
     "execution_count": 24,
     "metadata": {},
     "output_type": "execute_result"
    }
   ],
   "source": [
    "a"
   ]
  },
  {
   "cell_type": "code",
   "execution_count": 25,
   "id": "255c8a65",
   "metadata": {},
   "outputs": [
    {
     "data": {
      "text/plain": [
       "Kollur                63\n",
       "Kukatpally            42\n",
       "Kompally              42\n",
       "Bowrampet             21\n",
       "Jeedimetla            21\n",
       "Attapur               21\n",
       "Saroor Nagar          21\n",
       "Dammaiguda            21\n",
       "Sanath Nagar          21\n",
       "Mallapur              21\n",
       "Ameenpur              21\n",
       "Harshaguda            21\n",
       "Bachupally            21\n",
       "Saidabad              21\n",
       "Gundlapochampally     21\n",
       "Nizampet              21\n",
       "Name: Location, dtype: int64"
      ]
     },
     "execution_count": 25,
     "metadata": {},
     "output_type": "execute_result"
    }
   ],
   "source": [
    "data[\"Location\"].value_counts()"
   ]
  },
  {
   "cell_type": "code",
   "execution_count": 26,
   "id": "f5e01b59",
   "metadata": {},
   "outputs": [
    {
     "data": {
      "image/png": "[encoded data removed]",
      "text/plain": [
       "<Figure size 360x360 with 1 Axes>"
      ]
     },
     "metadata": {
      "needs_background": "light"
     },
     "output_type": "display_data"
    }
   ],
   "source": [
    "# step-1\n",
    "plt.figure(figsize=(5,5))\n",
    "plt.hist(data[\"Building_type\"])\n",
    "plt.title(\"Building types available\")\n",
    "plt.xlabel(\"Building_type\")\n",
    "plt.show()"
   ]
  },
  {
   "cell_type": "markdown",
   "id": "ebc29180",
   "metadata": {},
   "source": [
    "* most of buildings are in Apartment type"
   ]
  },
  {
   "cell_type": "code",
   "execution_count": 27,
   "id": "2a7b976b",
   "metadata": {},
   "outputs": [
    {
     "data": {
      "image/png": "[encoded data removed]",
      "text/plain": [
       "<Figure size 1224x504 with 1 Axes>"
      ]
     },
     "metadata": {},
     "output_type": "display_data"
    }
   ],
   "source": [
    "# step-2\n",
    "plt.figure(figsize=(17,7))\n",
    "a=pd.DataFrame(data[\"Building_Status\"].value_counts())\n",
    "explode=[0,0.4]\n",
    "plt.pie(data[\"Building_Status\"].value_counts(),labels=a.index,explode=explode,autopct=\"%1.2f%%\",shadow=True,colors=[\"pink\",'green'])\n",
    "plt.title(\"Building status available \")\n",
    "plt.legend(bbox_to_anchor=(1.5,1))\n",
    "plt.show()"
   ]
  },
  {
   "cell_type": "markdown",
   "id": "18514c77",
   "metadata": {},
   "source": [
    "* Most of the buildings are in under construction status"
   ]
  },
  {
   "cell_type": "code",
   "execution_count": 28,
   "id": "ef4a16f2",
   "metadata": {},
   "outputs": [
    {
     "data": {
      "image/png": "[encoded data removed]",
      "text/plain": [
       "<Figure size 1224x720 with 1 Axes>"
      ]
     },
     "metadata": {},
     "output_type": "display_data"
    }
   ],
   "source": [
    "# step-3\n",
    "plt.figure(figsize=(17,10))\n",
    "x=pd.DataFrame(data[\"Location\"].value_counts())\n",
    "explode=[0.2,0,0,0,0,0,0,0,0,0,0,0,0,0,0,0]\n",
    "plt.pie(data[\"Location\"].value_counts(),labels=x.index,explode=explode,autopct=\"%1.2f%%\",shadow=True)\n",
    "plt.title(\"Location of Buildings\",fontsize=(15))\n",
    "plt.legend(bbox_to_anchor=(1.1,1))\n",
    "plt.show()"
   ]
  },
  {
   "cell_type": "markdown",
   "id": "6a1058ac",
   "metadata": {},
   "source": [
    "* Kollur is having highest percentage of houses for sale about 15%\n",
    "* Kompally and Kukkatpally has second highest percentage of houses for sale about 10%"
   ]
  },
  {
   "cell_type": "markdown",
   "id": "5e14f9f1",
   "metadata": {},
   "source": [
    "### no of buildings available in location"
   ]
  },
  {
   "cell_type": "code",
   "execution_count": 29,
   "id": "b5ed45c9",
   "metadata": {},
   "outputs": [
    {
     "data": {
      "image/png": "[encoded data removed]",
      "text/plain": [
       "<Figure size 720x360 with 1 Axes>"
      ]
     },
     "metadata": {
      "needs_background": "light"
     },
     "output_type": "display_data"
    }
   ],
   "source": [
    "# step-4\n",
    "plt.figure(figsize=(10,5))\n",
    "ax=sns.countplot(x='Location',data=data)\n",
    "plt.xticks(rotation=90)\n",
    "for i in ax.containers:\n",
    "    ax.bar_label(i)"
   ]
  },
  {
   "cell_type": "markdown",
   "id": "8fe07b14",
   "metadata": {},
   "source": [
    "* Kollur has 63 buildings for sale\n",
    "* Kukkatpally and Kompally has 42 buildings for sale \n",
    "* Remaining locations are 21 builings for sale"
   ]
  },
  {
   "cell_type": "markdown",
   "id": "e445311c",
   "metadata": {},
   "source": [
    "### checking the density of Prices(cr)"
   ]
  },
  {
   "cell_type": "code",
   "execution_count": 30,
   "id": "a00c7f69",
   "metadata": {},
   "outputs": [
    {
     "name": "stderr",
     "output_type": "stream",
     "text": [
      "C:\\Users\\hp\\anaconda3\\lib\\site-packages\\seaborn\\distributions.py:2619: FutureWarning: `distplot` is a deprecated function and will be removed in a future version. Please adapt your code to use either `displot` (a figure-level function with similar flexibility) or `histplot` (an axes-level function for histograms).\n",
      "  warnings.warn(msg, FutureWarning)\n"
     ]
    },
    {
     "data": {
      "image/png": "[encoded data removed]",
      "text/plain": [
       "<Figure size 432x288 with 1 Axes>"
      ]
     },
     "metadata": {
      "needs_background": "light"
     },
     "output_type": "display_data"
    }
   ],
   "source": [
    "sns.distplot(data['Price_in_cr'])\n",
    "plt.show()"
   ]
  },
  {
   "cell_type": "markdown",
   "id": "67fb9048",
   "metadata": {},
   "source": [
    " * most of building prices are below 2 crores"
   ]
  },
  {
   "cell_type": "markdown",
   "id": "83bf80a8",
   "metadata": {},
   "source": [
    "## Bivariate analysis"
   ]
  },
  {
   "cell_type": "markdown",
   "id": "1e7e7ec1",
   "metadata": {},
   "source": [
    "### categorical vs categorical"
   ]
  },
  {
   "cell_type": "markdown",
   "id": "4123a316",
   "metadata": {},
   "source": [
    " #### Availability of Building type in Location"
   ]
  },
  {
   "cell_type": "code",
   "execution_count": 31,
   "id": "18883b90",
   "metadata": {},
   "outputs": [
    {
     "data": {
      "image/png": "[encoded data removed]",
      "text/plain": [
       "<Figure size 432x288 with 1 Axes>"
      ]
     },
     "metadata": {
      "needs_background": "light"
     },
     "output_type": "display_data"
    }
   ],
   "source": [
    "pd.crosstab(index=data[\"Location\"],columns=data[\"Building_type\"]).plot(kind=\"line\")\n",
    "plt.xticks(rotation=90)\n",
    "plt.title(\"Availability of Building type in Location\")\n",
    "plt.show()"
   ]
  },
  {
   "cell_type": "markdown",
   "id": "10951bff",
   "metadata": {},
   "source": [
    "* Most of Apartments are available at Kollur and less no of apartments are available at Harshguda\n",
    "* Villas are available only at Harshguda"
   ]
  },
  {
   "cell_type": "markdown",
   "id": "330fd3aa",
   "metadata": {},
   "source": [
    "### categorical vs numerical"
   ]
  },
  {
   "cell_type": "code",
   "execution_count": 32,
   "id": "9b27b4ac",
   "metadata": {},
   "outputs": [
    {
     "data": {
      "image/png": "[encoded data removed]",
      "text/plain": [
       "<Figure size 432x288 with 1 Axes>"
      ]
     },
     "metadata": {
      "needs_background": "light"
     },
     "output_type": "display_data"
    }
   ],
   "source": [
    "pd.crosstab(index=data.House_size,columns=data.Building_type).plot(kind=\"barh\")\n",
    "plt.show()"
   ]
  },
  {
   "cell_type": "markdown",
   "id": "f238cdef",
   "metadata": {},
   "source": [
    "* most of 3bhk apartments are available"
   ]
  },
  {
   "cell_type": "markdown",
   "id": "e68c86be",
   "metadata": {},
   "source": [
    "#### knowing the max and  min prices of house size"
   ]
  },
  {
   "cell_type": "code",
   "execution_count": 33,
   "id": "82b42e69",
   "metadata": {},
   "outputs": [
    {
     "data": {
      "image/png": "[encoded data removed]",
      "text/plain": [
       "<Figure size 432x288 with 1 Axes>"
      ]
     },
     "metadata": {
      "needs_background": "light"
     },
     "output_type": "display_data"
    }
   ],
   "source": [
    "data.groupby([\"House_size\"]).agg({\"Price_in_cr\":[\"min\",\"max\"]}).plot(kind=\"bar\")\n",
    "plt.title(\" knowing the max min prices of house size\",fontsize=(20))\n",
    "plt.legend(bbox_to_anchor=(1,1))\n",
    "plt.show()"
   ]
  },
  {
   "cell_type": "markdown",
   "id": "26f4fa6a",
   "metadata": {},
   "source": [
    "* 4bhk showing equal price about below 2 crores\n",
    "* 5bhk showing the maximum price(>8cr) with no minimum price\n",
    "* 2bhk and 3bhk showing the minimum, maximum prices "
   ]
  },
  {
   "cell_type": "markdown",
   "id": "2309d6f7",
   "metadata": {},
   "source": [
    "#### Checking Prices for property type"
   ]
  },
  {
   "cell_type": "code",
   "execution_count": 34,
   "id": "5a89d11a",
   "metadata": {},
   "outputs": [
    {
     "data": {
      "image/png": "[encoded data removed]",
      "text/plain": [
       "<Figure size 360x360 with 1 Axes>"
      ]
     },
     "metadata": {
      "needs_background": "light"
     },
     "output_type": "display_data"
    }
   ],
   "source": [
    "sns.catplot(x=\"Price_in_cr\",y=\"Building_Status\",data=data)\n",
    "plt.show()"
   ]
  },
  {
   "cell_type": "code",
   "execution_count": null,
   "id": "798ba160",
   "metadata": {},
   "outputs": [],
   "source": []
  },
  {
   "cell_type": "code",
   "execution_count": 35,
   "id": "61d528db",
   "metadata": {},
   "outputs": [
    {
     "data": {
      "image/png": "[encoded data removed]",
      "text/plain": [
       "<Figure size 432x288 with 1 Axes>"
      ]
     },
     "metadata": {
      "needs_background": "light"
     },
     "output_type": "display_data"
    }
   ],
   "source": [
    "sns.boxplot(x=\"House_size\",y=\"Price_in_cr\",data=data)\n",
    "plt.show()"
   ]
  },
  {
   "cell_type": "markdown",
   "id": "85183e2e",
   "metadata": {},
   "source": [
    "* "
   ]
  },
  {
   "cell_type": "markdown",
   "id": "be1c9ff0",
   "metadata": {},
   "source": [
    "### Availability of House size in Building type"
   ]
  },
  {
   "cell_type": "code",
   "execution_count": 36,
   "id": "74d89812",
   "metadata": {},
   "outputs": [
    {
     "data": {
      "image/png": "[encoded data removed]",
      "text/plain": [
       "<Figure size 432x288 with 1 Axes>"
      ]
     },
     "metadata": {
      "needs_background": "light"
     },
     "output_type": "display_data"
    }
   ],
   "source": [
    "cs=pd.crosstab(data[\"Building_type\"],data[\"House_size\"])\n",
    "cs.plot(kind=\"bar\")\n",
    "plt.title(\" House sizes\",fontsize=(25))\n",
    "plt.show()"
   ]
  },
  {
   "cell_type": "markdown",
   "id": "de63cd65",
   "metadata": {},
   "source": [
    "* Appartments are availble in 2,3,4 and 5bhk\n",
    "* only 5bhk buildings are available in Villas"
   ]
  },
  {
   "cell_type": "markdown",
   "id": "379adc92",
   "metadata": {},
   "source": [
    "### Area(sqft) availability in Building type"
   ]
  },
  {
   "cell_type": "code",
   "execution_count": 37,
   "id": "0608d2d0",
   "metadata": {},
   "outputs": [
    {
     "data": {
      "image/png": "[encoded data removed]",
      "text/plain": [
       "<Figure size 432x288 with 1 Axes>"
      ]
     },
     "metadata": {
      "needs_background": "light"
     },
     "output_type": "display_data"
    }
   ],
   "source": [
    "sns.boxplot(y='Area_sq_ft',x=\"Building_type\",data=data)\n",
    "plt.xticks(rotation=90)\n",
    "plt.show()"
   ]
  },
  {
   "cell_type": "markdown",
   "id": "d1ac30b0",
   "metadata": {},
   "source": [
    "* Most of the Apartment's area is in between 1000 to 3000 sqft"
   ]
  },
  {
   "cell_type": "markdown",
   "id": "e4c6b985",
   "metadata": {},
   "source": [
    "### Numerical vs Numerical"
   ]
  },
  {
   "cell_type": "code",
   "execution_count": 38,
   "id": "0f9c1078",
   "metadata": {},
   "outputs": [
    {
     "data": {
      "image/png": "[encoded data removed]",
      "text/plain": [
       "<Figure size 432x288 with 1 Axes>"
      ]
     },
     "metadata": {
      "needs_background": "light"
     },
     "output_type": "display_data"
    }
   ],
   "source": [
    "sns.scatterplot(x=\"Area_sq_ft\",y=\"Price_in_cr\",data=data)\n",
    "plt.show()"
   ]
  },
  {
   "cell_type": "code",
   "execution_count": 39,
   "id": "3ebda98b",
   "metadata": {},
   "outputs": [
    {
     "data": {
      "image/png": "[encoded data removed]",
      "text/plain": [
       "<Figure size 432x288 with 1 Axes>"
      ]
     },
     "metadata": {
      "needs_background": "light"
     },
     "output_type": "display_data"
    }
   ],
   "source": [
    "sns.boxplot(x='House_size',y=\"Price_in_cr\",data=data)\n",
    "plt.show()"
   ]
  },
  {
   "cell_type": "markdown",
   "id": "c7ea98be",
   "metadata": {},
   "source": [
    "* Price is high and large amount of Area avilable\n",
    "* below 3k Sqft of area has price below 2crores"
   ]
  },
  {
   "cell_type": "code",
   "execution_count": 40,
   "id": "62922b70",
   "metadata": {},
   "outputs": [
    {
     "data": {
      "text/plain": [
       "3    252\n",
       "2    126\n",
       "4     21\n",
       "5     21\n",
       "Name: House_size, dtype: int64"
      ]
     },
     "execution_count": 40,
     "metadata": {},
     "output_type": "execute_result"
    }
   ],
   "source": [
    "data[\"House_size\"].value_counts()"
   ]
  },
  {
   "cell_type": "code",
   "execution_count": 41,
   "id": "46d5407a",
   "metadata": {},
   "outputs": [
    {
     "data": {
      "image/png": "[encoded data removed]",
      "text/plain": [
       "<Figure size 432x288 with 1 Axes>"
      ]
     },
     "metadata": {
      "needs_background": "light"
     },
     "output_type": "display_data"
    }
   ],
   "source": [
    "ax=sns.barplot(y=\"House_size\",x=\"Price_in_cr\",data=data)\n",
    "for i in ax.containers:\n",
    "    ax.bar_label(i)\n",
    "plt.xticks(rotation=90)\n",
    "plt.show()"
   ]
  },
  {
   "cell_type": "markdown",
   "id": "4bca1e38",
   "metadata": {},
   "source": [
    "* Large no of Buildings are Under construction and Prices are High\n",
    "* less no of building are Read to move and prices are less "
   ]
  },
  {
   "cell_type": "markdown",
   "id": "ee40b29c",
   "metadata": {},
   "source": [
    "#### Knowing the maximum and minimum prices of  House size in locations"
   ]
  },
  {
   "cell_type": "code",
   "execution_count": 42,
   "id": "28a6a291",
   "metadata": {},
   "outputs": [
    {
     "data": {
      "text/plain": [
       "<Figure size 720x288 with 0 Axes>"
      ]
     },
     "metadata": {},
     "output_type": "display_data"
    },
    {
     "data": {
      "image/png": "[encoded data removed]",
      "text/plain": [
       "<Figure size 432x288 with 1 Axes>"
      ]
     },
     "metadata": {
      "needs_background": "light"
     },
     "output_type": "display_data"
    }
   ],
   "source": [
    "plt.figure(figsize=(10,4))\n",
    "data.groupby([\"House_size\",\"Location\"]).agg({\"Price_in_cr\":['min','max']}).plot(kind=\"bar\")\n",
    "plt.legend(bbox_to_anchor=(0.5,1))\n",
    "plt.show()"
   ]
  },
  {
   "cell_type": "code",
   "execution_count": null,
   "id": "e4803589",
   "metadata": {},
   "outputs": [],
   "source": []
  },
  {
   "cell_type": "markdown",
   "id": "28215bc0",
   "metadata": {},
   "source": [
    "### Percentage of construction on Location"
   ]
  },
  {
   "cell_type": "code",
   "execution_count": 43,
   "id": "30a2b863",
   "metadata": {},
   "outputs": [
    {
     "data": {
      "image/png": "[encoded data removed]",
      "text/plain": [
       "<Figure size 720x576 with 1 Axes>"
      ]
     },
     "metadata": {},
     "output_type": "display_data"
    }
   ],
   "source": [
    "temp=pd.DataFrame({\"Location\":data[\"Location\"]})\n",
    "constructed=temp.value_counts()[0:15]\n",
    "labels=[X[0] for X in constructed.keys()]\n",
    "bar,ax=plt.subplots(figsize=(10,8))\n",
    "ax=plt.pie(x=constructed,labels=labels,autopct=\"%0.2f%%\",shadow=True)\n",
    "plt.title(\"Percentage of construction on Location\")\n",
    "plt.show()"
   ]
  },
  {
   "cell_type": "markdown",
   "id": "5c1414ae",
   "metadata": {},
   "source": [
    "* Most of buildings were conctructed in Kollur about 15.79%"
   ]
  },
  {
   "cell_type": "markdown",
   "id": "d1798d04",
   "metadata": {},
   "source": [
    "### Multivariate Analysis"
   ]
  },
  {
   "cell_type": "code",
   "execution_count": 44,
   "id": "5d1e96ee",
   "metadata": {},
   "outputs": [
    {
     "name": "stderr",
     "output_type": "stream",
     "text": [
      "C:\\Users\\hp\\anaconda3\\lib\\site-packages\\seaborn\\_decorators.py:36: FutureWarning: Pass the following variables as keyword args: x, y. From version 0.12, the only valid positional argument will be `data`, and passing other arguments without an explicit keyword will result in an error or misinterpretation.\n",
      "  warnings.warn(\n"
     ]
    },
    {
     "data": {
      "image/png": "[encoded data removed]",
      "text/plain": [
       "<Figure size 432x288 with 1 Axes>"
      ]
     },
     "metadata": {
      "needs_background": "light"
     },
     "output_type": "display_data"
    }
   ],
   "source": [
    "sns.scatterplot(data[\"Area_sq_ft\"],data[\"Price_in_cr\"],hue=data[\"Building_Status\"])\n",
    "plt.title(\"Area(sqft) vs Price(cr) vs Building Status\")\n",
    "plt.show()"
   ]
  },
  {
   "cell_type": "markdown",
   "id": "efaf2df1",
   "metadata": {},
   "source": [
    "* Most of the buildins are under construction "
   ]
  },
  {
   "cell_type": "code",
   "execution_count": 45,
   "id": "bf13b95f",
   "metadata": {},
   "outputs": [
    {
     "name": "stderr",
     "output_type": "stream",
     "text": [
      "C:\\Users\\hp\\anaconda3\\lib\\site-packages\\seaborn\\_decorators.py:36: FutureWarning: Pass the following variables as keyword args: x, y. From version 0.12, the only valid positional argument will be `data`, and passing other arguments without an explicit keyword will result in an error or misinterpretation.\n",
      "  warnings.warn(\n"
     ]
    },
    {
     "data": {
      "image/png": "[encoded data removed]",
      "text/plain": [
       "<Figure size 432x288 with 1 Axes>"
      ]
     },
     "metadata": {
      "needs_background": "light"
     },
     "output_type": "display_data"
    }
   ],
   "source": [
    "sns.scatterplot(data[\"Area_sq_ft\"],data[\"Price_in_cr\"],hue=data[\"Building_Status\"])\n",
    "plt.xlim(0,5000)\n",
    "plt.ylim(0,6)\n",
    "plt.show()"
   ]
  },
  {
   "cell_type": "markdown",
   "id": "9d6003fe",
   "metadata": {},
   "source": [
    "* here Villa has more price about nearly 10 crores and has 9k sq ft above\n",
    "* Appartments have the area below the 3k sq ft and cost also showing the less compere to Villa\n"
   ]
  },
  {
   "cell_type": "code",
   "execution_count": 46,
   "id": "5f96ede1",
   "metadata": {},
   "outputs": [
    {
     "data": {
      "text/html": [
       "<div>\n",
       "<style scoped>\n",
       "    .dataframe tbody tr th:only-of-type {\n",
       "        vertical-align: middle;\n",
       "    }\n",
       "\n",
       "    .dataframe tbody tr th {\n",
       "        vertical-align: top;\n",
       "    }\n",
       "\n",
       "    .dataframe thead th {\n",
       "        text-align: right;\n",
       "    }\n",
       "</style>\n",
       "<table border=\"1\" class=\"dataframe\">\n",
       "  <thead>\n",
       "    <tr style=\"text-align: right;\">\n",
       "      <th></th>\n",
       "      <th>Price_in_cr</th>\n",
       "      <th>Area_sq_ft</th>\n",
       "      <th>House_size</th>\n",
       "      <th>Prices_per_sqft</th>\n",
       "    </tr>\n",
       "  </thead>\n",
       "  <tbody>\n",
       "    <tr>\n",
       "      <th>count</th>\n",
       "      <td>420.000000</td>\n",
       "      <td>420.000000</td>\n",
       "      <td>420.000000</td>\n",
       "      <td>420.000000</td>\n",
       "    </tr>\n",
       "    <tr>\n",
       "      <th>mean</th>\n",
       "      <td>3.805000</td>\n",
       "      <td>2134.950000</td>\n",
       "      <td>2.850000</td>\n",
       "      <td>6124.550000</td>\n",
       "    </tr>\n",
       "    <tr>\n",
       "      <th>std</th>\n",
       "      <td>3.234803</td>\n",
       "      <td>1649.930284</td>\n",
       "      <td>0.727158</td>\n",
       "      <td>1809.882973</td>\n",
       "    </tr>\n",
       "    <tr>\n",
       "      <th>min</th>\n",
       "      <td>1.020000</td>\n",
       "      <td>1039.000000</td>\n",
       "      <td>2.000000</td>\n",
       "      <td>3499.000000</td>\n",
       "    </tr>\n",
       "    <tr>\n",
       "      <th>25%</th>\n",
       "      <td>1.210000</td>\n",
       "      <td>1408.750000</td>\n",
       "      <td>2.000000</td>\n",
       "      <td>4876.000000</td>\n",
       "    </tr>\n",
       "    <tr>\n",
       "      <th>50%</th>\n",
       "      <td>1.970000</td>\n",
       "      <td>1787.500000</td>\n",
       "      <td>3.000000</td>\n",
       "      <td>5650.000000</td>\n",
       "    </tr>\n",
       "    <tr>\n",
       "      <th>75%</th>\n",
       "      <td>5.397500</td>\n",
       "      <td>2287.250000</td>\n",
       "      <td>3.000000</td>\n",
       "      <td>6575.000000</td>\n",
       "    </tr>\n",
       "    <tr>\n",
       "      <th>max</th>\n",
       "      <td>9.980000</td>\n",
       "      <td>9000.000000</td>\n",
       "      <td>5.000000</td>\n",
       "      <td>10334.000000</td>\n",
       "    </tr>\n",
       "  </tbody>\n",
       "</table>\n",
       "</div>"
      ],
      "text/plain": [
       "       Price_in_cr   Area_sq_ft  House_size  Prices_per_sqft\n",
       "count   420.000000   420.000000  420.000000       420.000000\n",
       "mean      3.805000  2134.950000    2.850000      6124.550000\n",
       "std       3.234803  1649.930284    0.727158      1809.882973\n",
       "min       1.020000  1039.000000    2.000000      3499.000000\n",
       "25%       1.210000  1408.750000    2.000000      4876.000000\n",
       "50%       1.970000  1787.500000    3.000000      5650.000000\n",
       "75%       5.397500  2287.250000    3.000000      6575.000000\n",
       "max       9.980000  9000.000000    5.000000     10334.000000"
      ]
     },
     "execution_count": 46,
     "metadata": {},
     "output_type": "execute_result"
    }
   ],
   "source": [
    "data.describe()"
   ]
  },
  {
   "cell_type": "code",
   "execution_count": 47,
   "id": "0bb44941",
   "metadata": {},
   "outputs": [
    {
     "data": {
      "image/png": "[encoded data removed]",
      "text/plain": [
       "<Figure size 540x540 with 12 Axes>"
      ]
     },
     "metadata": {
      "needs_background": "light"
     },
     "output_type": "display_data"
    }
   ],
   "source": [
    "sns.pairplot(data[[\"Price_in_cr\",\"Area_sq_ft\",\"Prices_per_sqft\"]])\n",
    "plt.show()"
   ]
  },
  {
   "cell_type": "code",
   "execution_count": 48,
   "id": "89d8bac9",
   "metadata": {},
   "outputs": [
    {
     "data": {
      "image/png": "[encoded data removed]",
      "text/plain": [
       "<Figure size 720x360 with 2 Axes>"
      ]
     },
     "metadata": {
      "needs_background": "light"
     },
     "output_type": "display_data"
    }
   ],
   "source": [
    "plt.figure(figsize=(10,5))\n",
    "sns.heatmap(data[[\"Price_in_cr\",\"Area_sq_ft\",\"Prices_per_sqft\"]].corr(),annot=True,cmap=\"Blues\")\n",
    "plt.title(\"Correlation\",fontsize=15)\n",
    "plt.show()"
   ]
  },
  {
   "cell_type": "code",
   "execution_count": 49,
   "id": "27f36220",
   "metadata": {},
   "outputs": [
    {
     "data": {
      "text/plain": [
       "<AxesSubplot: >"
      ]
     },
     "execution_count": 49,
     "metadata": {},
     "output_type": "execute_result"
    },
    {
     "data": {
      "image/png": "[encoded data removed]",
      "text/plain": [
       "<Figure size 432x288 with 2 Axes>"
      ]
     },
     "metadata": {
      "needs_background": "light"
     },
     "output_type": "display_data"
    }
   ],
   "source": [
    "sns.heatmap(data.corr(),annot=True)"
   ]
  },
  {
   "cell_type": "markdown",
   "id": "4bcd30d8",
   "metadata": {},
   "source": [
    "* Price and Price/sqft has low to medium level negative corrilation\n",
    "* Price and House size has strong the corrilation\n",
    "* Price and Area(sqft) has low tomedium level positive corrilation"
   ]
  },
  {
   "cell_type": "markdown",
   "id": "d1ab1a4f",
   "metadata": {},
   "source": [
    "#### Checking availability of House size in Building type of Location for Prices"
   ]
  },
  {
   "cell_type": "code",
   "execution_count": 50,
   "id": "d4bd723c",
   "metadata": {},
   "outputs": [
    {
     "data": {
      "image/png": "[encoded data removed]",
      "text/plain": [
       "<Figure size 1440x360 with 1 Axes>"
      ]
     },
     "metadata": {
      "needs_background": "light"
     },
     "output_type": "display_data"
    }
   ],
   "source": [
    "plt.rcParams[\"figure.figsize\"]=(20,5)\n",
    "data.groupby([\"House_size\",\"Location\",\"Building_type\"]).agg({\"Price_in_cr\":[\"min\",\"max\"]}).plot(kind=\"bar\")\n",
    "plt.legend(bbox_to_anchor=(0.5,1))\n",
    "plt.show()"
   ]
  },
  {
   "cell_type": "markdown",
   "id": "e50f1370",
   "metadata": {},
   "source": [
    "* Here Villa is available with 5bhk at Harshaguda with no minimum price \n",
    "* 3bhk appartment at Kollur showing minimum price is below 2 crores and maximum is above 8 crors"
   ]
  },
  {
   "cell_type": "code",
   "execution_count": 62,
   "id": "196ca85b",
   "metadata": {},
   "outputs": [
    {
     "data": {
      "text/html": [
       "<div>\n",
       "<style scoped>\n",
       "    .dataframe tbody tr th:only-of-type {\n",
       "        vertical-align: middle;\n",
       "    }\n",
       "\n",
       "    .dataframe tbody tr th {\n",
       "        vertical-align: top;\n",
       "    }\n",
       "\n",
       "    .dataframe thead th {\n",
       "        text-align: right;\n",
       "    }\n",
       "</style>\n",
       "<table border=\"1\" class=\"dataframe\">\n",
       "  <thead>\n",
       "    <tr style=\"text-align: right;\">\n",
       "      <th></th>\n",
       "      <th>Building_Name</th>\n",
       "      <th>Building_type</th>\n",
       "      <th>Constructed_by</th>\n",
       "      <th>Price_in_cr</th>\n",
       "      <th>Location</th>\n",
       "      <th>Area_sq_ft</th>\n",
       "      <th>House_size</th>\n",
       "      <th>Prices_per_sqft</th>\n",
       "      <th>Building_Status</th>\n",
       "    </tr>\n",
       "  </thead>\n",
       "  <tbody>\n",
       "    <tr>\n",
       "      <th>0</th>\n",
       "      <td>Vajra The Royal Park</td>\n",
       "      <td>Apartment</td>\n",
       "      <td>Vajra Builders And Developers</td>\n",
       "      <td>4.47</td>\n",
       "      <td>Bowrampet</td>\n",
       "      <td>1535</td>\n",
       "      <td>3</td>\n",
       "      <td>4200</td>\n",
       "      <td>Under Construction</td>\n",
       "    </tr>\n",
       "    <tr>\n",
       "      <th>1</th>\n",
       "      <td>Vasavi Signature</td>\n",
       "      <td>Apartment</td>\n",
       "      <td>Vasavi Group</td>\n",
       "      <td>1.82</td>\n",
       "      <td>Kukatpally</td>\n",
       "      <td>2285</td>\n",
       "      <td>3</td>\n",
       "      <td>8000</td>\n",
       "      <td>Ready to move</td>\n",
       "    </tr>\n",
       "    <tr>\n",
       "      <th>2</th>\n",
       "      <td>Riddhi Pramukh Elegance</td>\n",
       "      <td>Apartment</td>\n",
       "      <td>Riddhi Group</td>\n",
       "      <td>7.58</td>\n",
       "      <td>Jeedimetla</td>\n",
       "      <td>1510</td>\n",
       "      <td>3</td>\n",
       "      <td>5800</td>\n",
       "      <td>Under Construction</td>\n",
       "    </tr>\n",
       "    <tr>\n",
       "      <th>3</th>\n",
       "      <td>Theme Imperial</td>\n",
       "      <td>Apartment</td>\n",
       "      <td>Theme Ambience Infrastructures</td>\n",
       "      <td>1.80</td>\n",
       "      <td>Attapur</td>\n",
       "      <td>2655</td>\n",
       "      <td>4</td>\n",
       "      <td>6800</td>\n",
       "      <td>Under Construction</td>\n",
       "    </tr>\n",
       "    <tr>\n",
       "      <th>4</th>\n",
       "      <td>Signature Altius</td>\n",
       "      <td>Apartment</td>\n",
       "      <td>Signature Avenues</td>\n",
       "      <td>1.21</td>\n",
       "      <td>Kollur</td>\n",
       "      <td>2425</td>\n",
       "      <td>3</td>\n",
       "      <td>4999</td>\n",
       "      <td>Under Construction</td>\n",
       "    </tr>\n",
       "    <tr>\n",
       "      <th>5</th>\n",
       "      <td>Aavasa Constructions Emerald</td>\n",
       "      <td>Apartment</td>\n",
       "      <td>Aavasa Constructions</td>\n",
       "      <td>1.52</td>\n",
       "      <td>Saroor Nagar</td>\n",
       "      <td>2345</td>\n",
       "      <td>3</td>\n",
       "      <td>6500</td>\n",
       "      <td>Under Construction</td>\n",
       "    </tr>\n",
       "    <tr>\n",
       "      <th>6</th>\n",
       "      <td>Srija Twin Towers</td>\n",
       "      <td>Apartment</td>\n",
       "      <td>Srija Infra Developers Hyderabad</td>\n",
       "      <td>4.67</td>\n",
       "      <td>Dammaiguda</td>\n",
       "      <td>1139</td>\n",
       "      <td>2</td>\n",
       "      <td>4800</td>\n",
       "      <td>Under Construction</td>\n",
       "    </tr>\n",
       "    <tr>\n",
       "      <th>7</th>\n",
       "      <td>Cybercity Oriana</td>\n",
       "      <td>Apartment</td>\n",
       "      <td>Cyber City Oriana</td>\n",
       "      <td>1.35</td>\n",
       "      <td>Kukatpally</td>\n",
       "      <td>1450</td>\n",
       "      <td>2</td>\n",
       "      <td>9310</td>\n",
       "      <td>Under Construction</td>\n",
       "    </tr>\n",
       "    <tr>\n",
       "      <th>8</th>\n",
       "      <td>Primark De Stature</td>\n",
       "      <td>Apartment</td>\n",
       "      <td>Primark Projects Pvt Ltd</td>\n",
       "      <td>1.18</td>\n",
       "      <td>Kompally</td>\n",
       "      <td>1515</td>\n",
       "      <td>3</td>\n",
       "      <td>4699</td>\n",
       "      <td>Under Construction</td>\n",
       "    </tr>\n",
       "    <tr>\n",
       "      <th>9</th>\n",
       "      <td>Kalpataru Avante</td>\n",
       "      <td>Apartment</td>\n",
       "      <td>Kalpataru Group</td>\n",
       "      <td>2.19</td>\n",
       "      <td>Sanath Nagar</td>\n",
       "      <td>2294</td>\n",
       "      <td>3</td>\n",
       "      <td>9546</td>\n",
       "      <td>Under Construction</td>\n",
       "    </tr>\n",
       "    <tr>\n",
       "      <th>10</th>\n",
       "      <td>GSR Avasa EVK</td>\n",
       "      <td>Apartment</td>\n",
       "      <td>GSR Group</td>\n",
       "      <td>9.98</td>\n",
       "      <td>Kollur</td>\n",
       "      <td>2000</td>\n",
       "      <td>3</td>\n",
       "      <td>3499</td>\n",
       "      <td>Under Construction</td>\n",
       "    </tr>\n",
       "    <tr>\n",
       "      <th>11</th>\n",
       "      <td>Engineers Sri Tirumala Millennium Phase III</td>\n",
       "      <td>Apartment</td>\n",
       "      <td>EAPL Group</td>\n",
       "      <td>1.09</td>\n",
       "      <td>Mallapur</td>\n",
       "      <td>2187</td>\n",
       "      <td>3</td>\n",
       "      <td>4999</td>\n",
       "      <td>Under Construction</td>\n",
       "    </tr>\n",
       "    <tr>\n",
       "      <th>12</th>\n",
       "      <td>Lalitha Divine County</td>\n",
       "      <td>Apartment</td>\n",
       "      <td>Lalitha Construction and Developers</td>\n",
       "      <td>4.14</td>\n",
       "      <td>Ameenpur</td>\n",
       "      <td>1105</td>\n",
       "      <td>2</td>\n",
       "      <td>4900</td>\n",
       "      <td>Under Construction</td>\n",
       "    </tr>\n",
       "    <tr>\n",
       "      <th>13</th>\n",
       "      <td>Sunder Emerald Greens</td>\n",
       "      <td>Apartment</td>\n",
       "      <td>Sunder Homes</td>\n",
       "      <td>1.18</td>\n",
       "      <td>Kompally</td>\n",
       "      <td>2160</td>\n",
       "      <td>3</td>\n",
       "      <td>5500</td>\n",
       "      <td>Under Construction</td>\n",
       "    </tr>\n",
       "    <tr>\n",
       "      <th>14</th>\n",
       "      <td>Nest Bliss In The Woods</td>\n",
       "      <td>Villa</td>\n",
       "      <td>Nest Makers</td>\n",
       "      <td>9.30</td>\n",
       "      <td>Harshaguda</td>\n",
       "      <td>9000</td>\n",
       "      <td>5</td>\n",
       "      <td>10334</td>\n",
       "      <td>Under Construction</td>\n",
       "    </tr>\n",
       "    <tr>\n",
       "      <th>15</th>\n",
       "      <td>GHR Callisto</td>\n",
       "      <td>Apartment</td>\n",
       "      <td>GHR Infra</td>\n",
       "      <td>2.12</td>\n",
       "      <td>Kollur</td>\n",
       "      <td>1195</td>\n",
       "      <td>2</td>\n",
       "      <td>5199</td>\n",
       "      <td>Under Construction</td>\n",
       "    </tr>\n",
       "    <tr>\n",
       "      <th>16</th>\n",
       "      <td>Dinesh Auric</td>\n",
       "      <td>Apartment</td>\n",
       "      <td>Dinesh Projects</td>\n",
       "      <td>9.86</td>\n",
       "      <td>Bachupally</td>\n",
       "      <td>1039</td>\n",
       "      <td>2</td>\n",
       "      <td>4804</td>\n",
       "      <td>Under Construction</td>\n",
       "    </tr>\n",
       "    <tr>\n",
       "      <th>17</th>\n",
       "      <td>Namishree BPS Twin Towers</td>\n",
       "      <td>Apartment</td>\n",
       "      <td>Namishree Infrastructure And Project Pvt Ltd</td>\n",
       "      <td>1.02</td>\n",
       "      <td>Saidabad</td>\n",
       "      <td>1705</td>\n",
       "      <td>3</td>\n",
       "      <td>6000</td>\n",
       "      <td>Under Construction</td>\n",
       "    </tr>\n",
       "    <tr>\n",
       "      <th>18</th>\n",
       "      <td>Om Sree Gallaxy</td>\n",
       "      <td>Apartment</td>\n",
       "      <td>Om Sree Builders And Developers</td>\n",
       "      <td>8.41</td>\n",
       "      <td>Gundlapochampally</td>\n",
       "      <td>1285</td>\n",
       "      <td>2</td>\n",
       "      <td>6102</td>\n",
       "      <td>Under Construction</td>\n",
       "    </tr>\n",
       "    <tr>\n",
       "      <th>19</th>\n",
       "      <td>Vazhraa Vazhraa Prathik</td>\n",
       "      <td>Apartment</td>\n",
       "      <td>Vazhraa Nirmaan Pvt Ltd</td>\n",
       "      <td>1.21</td>\n",
       "      <td>Nizampet</td>\n",
       "      <td>1870</td>\n",
       "      <td>3</td>\n",
       "      <td>6500</td>\n",
       "      <td>Under Construction</td>\n",
       "    </tr>\n",
       "    <tr>\n",
       "      <th>20</th>\n",
       "      <td>Vajra The Royal Park</td>\n",
       "      <td>Apartment</td>\n",
       "      <td>Vajra Builders And Developers</td>\n",
       "      <td>4.47</td>\n",
       "      <td>Bowrampet</td>\n",
       "      <td>1535</td>\n",
       "      <td>3</td>\n",
       "      <td>4200</td>\n",
       "      <td>Under Construction</td>\n",
       "    </tr>\n",
       "    <tr>\n",
       "      <th>21</th>\n",
       "      <td>Vasavi Signature</td>\n",
       "      <td>Apartment</td>\n",
       "      <td>Vasavi Group</td>\n",
       "      <td>1.82</td>\n",
       "      <td>Kukatpally</td>\n",
       "      <td>2285</td>\n",
       "      <td>3</td>\n",
       "      <td>8000</td>\n",
       "      <td>Ready to move</td>\n",
       "    </tr>\n",
       "    <tr>\n",
       "      <th>22</th>\n",
       "      <td>Riddhi Pramukh Elegance</td>\n",
       "      <td>Apartment</td>\n",
       "      <td>Riddhi Group</td>\n",
       "      <td>7.58</td>\n",
       "      <td>Jeedimetla</td>\n",
       "      <td>1510</td>\n",
       "      <td>3</td>\n",
       "      <td>5800</td>\n",
       "      <td>Under Construction</td>\n",
       "    </tr>\n",
       "    <tr>\n",
       "      <th>23</th>\n",
       "      <td>Theme Imperial</td>\n",
       "      <td>Apartment</td>\n",
       "      <td>Theme Ambience Infrastructures</td>\n",
       "      <td>1.80</td>\n",
       "      <td>Attapur</td>\n",
       "      <td>2655</td>\n",
       "      <td>4</td>\n",
       "      <td>6800</td>\n",
       "      <td>Under Construction</td>\n",
       "    </tr>\n",
       "    <tr>\n",
       "      <th>24</th>\n",
       "      <td>Signature Altius</td>\n",
       "      <td>Apartment</td>\n",
       "      <td>Signature Avenues</td>\n",
       "      <td>1.21</td>\n",
       "      <td>Kollur</td>\n",
       "      <td>2425</td>\n",
       "      <td>3</td>\n",
       "      <td>4999</td>\n",
       "      <td>Under Construction</td>\n",
       "    </tr>\n",
       "    <tr>\n",
       "      <th>25</th>\n",
       "      <td>Aavasa Constructions Emerald</td>\n",
       "      <td>Apartment</td>\n",
       "      <td>Aavasa Constructions</td>\n",
       "      <td>1.52</td>\n",
       "      <td>Saroor Nagar</td>\n",
       "      <td>2345</td>\n",
       "      <td>3</td>\n",
       "      <td>6500</td>\n",
       "      <td>Under Construction</td>\n",
       "    </tr>\n",
       "    <tr>\n",
       "      <th>26</th>\n",
       "      <td>Srija Twin Towers</td>\n",
       "      <td>Apartment</td>\n",
       "      <td>Srija Infra Developers Hyderabad</td>\n",
       "      <td>4.67</td>\n",
       "      <td>Dammaiguda</td>\n",
       "      <td>1139</td>\n",
       "      <td>2</td>\n",
       "      <td>4800</td>\n",
       "      <td>Under Construction</td>\n",
       "    </tr>\n",
       "    <tr>\n",
       "      <th>27</th>\n",
       "      <td>Cybercity Oriana</td>\n",
       "      <td>Apartment</td>\n",
       "      <td>Cyber City Oriana</td>\n",
       "      <td>1.35</td>\n",
       "      <td>Kukatpally</td>\n",
       "      <td>1450</td>\n",
       "      <td>2</td>\n",
       "      <td>9310</td>\n",
       "      <td>Under Construction</td>\n",
       "    </tr>\n",
       "    <tr>\n",
       "      <th>28</th>\n",
       "      <td>Primark De Stature</td>\n",
       "      <td>Apartment</td>\n",
       "      <td>Primark Projects Pvt Ltd</td>\n",
       "      <td>1.18</td>\n",
       "      <td>Kompally</td>\n",
       "      <td>1515</td>\n",
       "      <td>3</td>\n",
       "      <td>4699</td>\n",
       "      <td>Under Construction</td>\n",
       "    </tr>\n",
       "    <tr>\n",
       "      <th>29</th>\n",
       "      <td>Kalpataru Avante</td>\n",
       "      <td>Apartment</td>\n",
       "      <td>Kalpataru Group</td>\n",
       "      <td>2.19</td>\n",
       "      <td>Sanath Nagar</td>\n",
       "      <td>2294</td>\n",
       "      <td>3</td>\n",
       "      <td>9546</td>\n",
       "      <td>Under Construction</td>\n",
       "    </tr>\n",
       "    <tr>\n",
       "      <th>30</th>\n",
       "      <td>GSR Avasa EVK</td>\n",
       "      <td>Apartment</td>\n",
       "      <td>GSR Group</td>\n",
       "      <td>9.98</td>\n",
       "      <td>Kollur</td>\n",
       "      <td>2000</td>\n",
       "      <td>3</td>\n",
       "      <td>3499</td>\n",
       "      <td>Under Construction</td>\n",
       "    </tr>\n",
       "    <tr>\n",
       "      <th>31</th>\n",
       "      <td>Engineers Sri Tirumala Millennium Phase III</td>\n",
       "      <td>Apartment</td>\n",
       "      <td>EAPL Group</td>\n",
       "      <td>1.09</td>\n",
       "      <td>Mallapur</td>\n",
       "      <td>2187</td>\n",
       "      <td>3</td>\n",
       "      <td>4999</td>\n",
       "      <td>Under Construction</td>\n",
       "    </tr>\n",
       "    <tr>\n",
       "      <th>32</th>\n",
       "      <td>Lalitha Divine County</td>\n",
       "      <td>Apartment</td>\n",
       "      <td>Lalitha Construction and Developers</td>\n",
       "      <td>4.14</td>\n",
       "      <td>Ameenpur</td>\n",
       "      <td>1105</td>\n",
       "      <td>2</td>\n",
       "      <td>4900</td>\n",
       "      <td>Under Construction</td>\n",
       "    </tr>\n",
       "    <tr>\n",
       "      <th>33</th>\n",
       "      <td>Sunder Emerald Greens</td>\n",
       "      <td>Apartment</td>\n",
       "      <td>Sunder Homes</td>\n",
       "      <td>1.18</td>\n",
       "      <td>Kompally</td>\n",
       "      <td>2160</td>\n",
       "      <td>3</td>\n",
       "      <td>5500</td>\n",
       "      <td>Under Construction</td>\n",
       "    </tr>\n",
       "    <tr>\n",
       "      <th>34</th>\n",
       "      <td>Nest Bliss In The Woods</td>\n",
       "      <td>Villa</td>\n",
       "      <td>Nest Makers</td>\n",
       "      <td>9.30</td>\n",
       "      <td>Harshaguda</td>\n",
       "      <td>9000</td>\n",
       "      <td>5</td>\n",
       "      <td>10334</td>\n",
       "      <td>Under Construction</td>\n",
       "    </tr>\n",
       "    <tr>\n",
       "      <th>35</th>\n",
       "      <td>GHR Callisto</td>\n",
       "      <td>Apartment</td>\n",
       "      <td>GHR Infra</td>\n",
       "      <td>2.12</td>\n",
       "      <td>Kollur</td>\n",
       "      <td>1195</td>\n",
       "      <td>2</td>\n",
       "      <td>5199</td>\n",
       "      <td>Under Construction</td>\n",
       "    </tr>\n",
       "    <tr>\n",
       "      <th>36</th>\n",
       "      <td>Dinesh Auric</td>\n",
       "      <td>Apartment</td>\n",
       "      <td>Dinesh Projects</td>\n",
       "      <td>9.86</td>\n",
       "      <td>Bachupally</td>\n",
       "      <td>1039</td>\n",
       "      <td>2</td>\n",
       "      <td>4804</td>\n",
       "      <td>Under Construction</td>\n",
       "    </tr>\n",
       "    <tr>\n",
       "      <th>37</th>\n",
       "      <td>Namishree BPS Twin Towers</td>\n",
       "      <td>Apartment</td>\n",
       "      <td>Namishree Infrastructure And Project Pvt Ltd</td>\n",
       "      <td>1.02</td>\n",
       "      <td>Saidabad</td>\n",
       "      <td>1705</td>\n",
       "      <td>3</td>\n",
       "      <td>6000</td>\n",
       "      <td>Under Construction</td>\n",
       "    </tr>\n",
       "    <tr>\n",
       "      <th>38</th>\n",
       "      <td>Om Sree Gallaxy</td>\n",
       "      <td>Apartment</td>\n",
       "      <td>Om Sree Builders And Developers</td>\n",
       "      <td>8.41</td>\n",
       "      <td>Gundlapochampally</td>\n",
       "      <td>1285</td>\n",
       "      <td>2</td>\n",
       "      <td>6102</td>\n",
       "      <td>Under Construction</td>\n",
       "    </tr>\n",
       "    <tr>\n",
       "      <th>39</th>\n",
       "      <td>Vazhraa Vazhraa Prathik</td>\n",
       "      <td>Apartment</td>\n",
       "      <td>Vazhraa Nirmaan Pvt Ltd</td>\n",
       "      <td>1.21</td>\n",
       "      <td>Nizampet</td>\n",
       "      <td>1870</td>\n",
       "      <td>3</td>\n",
       "      <td>6500</td>\n",
       "      <td>Under Construction</td>\n",
       "    </tr>\n",
       "    <tr>\n",
       "      <th>40</th>\n",
       "      <td>Vajra The Royal Park</td>\n",
       "      <td>Apartment</td>\n",
       "      <td>Vajra Builders And Developers</td>\n",
       "      <td>4.47</td>\n",
       "      <td>Bowrampet</td>\n",
       "      <td>1535</td>\n",
       "      <td>3</td>\n",
       "      <td>4200</td>\n",
       "      <td>Under Construction</td>\n",
       "    </tr>\n",
       "    <tr>\n",
       "      <th>41</th>\n",
       "      <td>Vasavi Signature</td>\n",
       "      <td>Apartment</td>\n",
       "      <td>Vasavi Group</td>\n",
       "      <td>1.82</td>\n",
       "      <td>Kukatpally</td>\n",
       "      <td>2285</td>\n",
       "      <td>3</td>\n",
       "      <td>8000</td>\n",
       "      <td>Ready to move</td>\n",
       "    </tr>\n",
       "    <tr>\n",
       "      <th>42</th>\n",
       "      <td>Riddhi Pramukh Elegance</td>\n",
       "      <td>Apartment</td>\n",
       "      <td>Riddhi Group</td>\n",
       "      <td>7.58</td>\n",
       "      <td>Jeedimetla</td>\n",
       "      <td>1510</td>\n",
       "      <td>3</td>\n",
       "      <td>5800</td>\n",
       "      <td>Under Construction</td>\n",
       "    </tr>\n",
       "    <tr>\n",
       "      <th>43</th>\n",
       "      <td>Theme Imperial</td>\n",
       "      <td>Apartment</td>\n",
       "      <td>Theme Ambience Infrastructures</td>\n",
       "      <td>1.80</td>\n",
       "      <td>Attapur</td>\n",
       "      <td>2655</td>\n",
       "      <td>4</td>\n",
       "      <td>6800</td>\n",
       "      <td>Under Construction</td>\n",
       "    </tr>\n",
       "    <tr>\n",
       "      <th>44</th>\n",
       "      <td>Signature Altius</td>\n",
       "      <td>Apartment</td>\n",
       "      <td>Signature Avenues</td>\n",
       "      <td>1.21</td>\n",
       "      <td>Kollur</td>\n",
       "      <td>2425</td>\n",
       "      <td>3</td>\n",
       "      <td>4999</td>\n",
       "      <td>Under Construction</td>\n",
       "    </tr>\n",
       "    <tr>\n",
       "      <th>45</th>\n",
       "      <td>Aavasa Constructions Emerald</td>\n",
       "      <td>Apartment</td>\n",
       "      <td>Aavasa Constructions</td>\n",
       "      <td>1.52</td>\n",
       "      <td>Saroor Nagar</td>\n",
       "      <td>2345</td>\n",
       "      <td>3</td>\n",
       "      <td>6500</td>\n",
       "      <td>Under Construction</td>\n",
       "    </tr>\n",
       "    <tr>\n",
       "      <th>46</th>\n",
       "      <td>Srija Twin Towers</td>\n",
       "      <td>Apartment</td>\n",
       "      <td>Srija Infra Developers Hyderabad</td>\n",
       "      <td>4.67</td>\n",
       "      <td>Dammaiguda</td>\n",
       "      <td>1139</td>\n",
       "      <td>2</td>\n",
       "      <td>4800</td>\n",
       "      <td>Under Construction</td>\n",
       "    </tr>\n",
       "    <tr>\n",
       "      <th>47</th>\n",
       "      <td>Cybercity Oriana</td>\n",
       "      <td>Apartment</td>\n",
       "      <td>Cyber City Oriana</td>\n",
       "      <td>1.35</td>\n",
       "      <td>Kukatpally</td>\n",
       "      <td>1450</td>\n",
       "      <td>2</td>\n",
       "      <td>9310</td>\n",
       "      <td>Under Construction</td>\n",
       "    </tr>\n",
       "    <tr>\n",
       "      <th>48</th>\n",
       "      <td>Primark De Stature</td>\n",
       "      <td>Apartment</td>\n",
       "      <td>Primark Projects Pvt Ltd</td>\n",
       "      <td>1.18</td>\n",
       "      <td>Kompally</td>\n",
       "      <td>1515</td>\n",
       "      <td>3</td>\n",
       "      <td>4699</td>\n",
       "      <td>Under Construction</td>\n",
       "    </tr>\n",
       "    <tr>\n",
       "      <th>49</th>\n",
       "      <td>Kalpataru Avante</td>\n",
       "      <td>Apartment</td>\n",
       "      <td>Kalpataru Group</td>\n",
       "      <td>2.19</td>\n",
       "      <td>Sanath Nagar</td>\n",
       "      <td>2294</td>\n",
       "      <td>3</td>\n",
       "      <td>9546</td>\n",
       "      <td>Under Construction</td>\n",
       "    </tr>\n",
       "  </tbody>\n",
       "</table>\n",
       "</div>"
      ],
      "text/plain": [
       "                                  Building_Name Building_type  \\\n",
       "0                          Vajra The Royal Park     Apartment   \n",
       "1                              Vasavi Signature     Apartment   \n",
       "2                       Riddhi Pramukh Elegance     Apartment   \n",
       "3                                Theme Imperial     Apartment   \n",
       "4                              Signature Altius     Apartment   \n",
       "5                  Aavasa Constructions Emerald     Apartment   \n",
       "6                             Srija Twin Towers     Apartment   \n",
       "7                              Cybercity Oriana     Apartment   \n",
       "8                            Primark De Stature     Apartment   \n",
       "9                              Kalpataru Avante     Apartment   \n",
       "10                                GSR Avasa EVK     Apartment   \n",
       "11  Engineers Sri Tirumala Millennium Phase III     Apartment   \n",
       "12                        Lalitha Divine County     Apartment   \n",
       "13                        Sunder Emerald Greens     Apartment   \n",
       "14                      Nest Bliss In The Woods         Villa   \n",
       "15                                 GHR Callisto     Apartment   \n",
       "16                                 Dinesh Auric     Apartment   \n",
       "17                    Namishree BPS Twin Towers     Apartment   \n",
       "18                              Om Sree Gallaxy     Apartment   \n",
       "19                      Vazhraa Vazhraa Prathik     Apartment   \n",
       "20                         Vajra The Royal Park     Apartment   \n",
       "21                             Vasavi Signature     Apartment   \n",
       "22                      Riddhi Pramukh Elegance     Apartment   \n",
       "23                               Theme Imperial     Apartment   \n",
       "24                             Signature Altius     Apartment   \n",
       "25                 Aavasa Constructions Emerald     Apartment   \n",
       "26                            Srija Twin Towers     Apartment   \n",
       "27                             Cybercity Oriana     Apartment   \n",
       "28                           Primark De Stature     Apartment   \n",
       "29                             Kalpataru Avante     Apartment   \n",
       "30                                GSR Avasa EVK     Apartment   \n",
       "31  Engineers Sri Tirumala Millennium Phase III     Apartment   \n",
       "32                        Lalitha Divine County     Apartment   \n",
       "33                        Sunder Emerald Greens     Apartment   \n",
       "34                      Nest Bliss In The Woods         Villa   \n",
       "35                                 GHR Callisto     Apartment   \n",
       "36                                 Dinesh Auric     Apartment   \n",
       "37                    Namishree BPS Twin Towers     Apartment   \n",
       "38                              Om Sree Gallaxy     Apartment   \n",
       "39                      Vazhraa Vazhraa Prathik     Apartment   \n",
       "40                         Vajra The Royal Park     Apartment   \n",
       "41                             Vasavi Signature     Apartment   \n",
       "42                      Riddhi Pramukh Elegance     Apartment   \n",
       "43                               Theme Imperial     Apartment   \n",
       "44                             Signature Altius     Apartment   \n",
       "45                 Aavasa Constructions Emerald     Apartment   \n",
       "46                            Srija Twin Towers     Apartment   \n",
       "47                             Cybercity Oriana     Apartment   \n",
       "48                           Primark De Stature     Apartment   \n",
       "49                             Kalpataru Avante     Apartment   \n",
       "\n",
       "                                  Constructed_by  Price_in_cr  \\\n",
       "0                  Vajra Builders And Developers         4.47   \n",
       "1                                   Vasavi Group         1.82   \n",
       "2                                   Riddhi Group         7.58   \n",
       "3                 Theme Ambience Infrastructures         1.80   \n",
       "4                              Signature Avenues         1.21   \n",
       "5                           Aavasa Constructions         1.52   \n",
       "6               Srija Infra Developers Hyderabad         4.67   \n",
       "7                              Cyber City Oriana         1.35   \n",
       "8                       Primark Projects Pvt Ltd         1.18   \n",
       "9                                Kalpataru Group         2.19   \n",
       "10                                     GSR Group         9.98   \n",
       "11                                    EAPL Group         1.09   \n",
       "12           Lalitha Construction and Developers         4.14   \n",
       "13                                  Sunder Homes         1.18   \n",
       "14                                   Nest Makers         9.30   \n",
       "15                                     GHR Infra         2.12   \n",
       "16                               Dinesh Projects         9.86   \n",
       "17  Namishree Infrastructure And Project Pvt Ltd         1.02   \n",
       "18               Om Sree Builders And Developers         8.41   \n",
       "19                       Vazhraa Nirmaan Pvt Ltd         1.21   \n",
       "20                 Vajra Builders And Developers         4.47   \n",
       "21                                  Vasavi Group         1.82   \n",
       "22                                  Riddhi Group         7.58   \n",
       "23                Theme Ambience Infrastructures         1.80   \n",
       "24                             Signature Avenues         1.21   \n",
       "25                          Aavasa Constructions         1.52   \n",
       "26              Srija Infra Developers Hyderabad         4.67   \n",
       "27                             Cyber City Oriana         1.35   \n",
       "28                      Primark Projects Pvt Ltd         1.18   \n",
       "29                               Kalpataru Group         2.19   \n",
       "30                                     GSR Group         9.98   \n",
       "31                                    EAPL Group         1.09   \n",
       "32           Lalitha Construction and Developers         4.14   \n",
       "33                                  Sunder Homes         1.18   \n",
       "34                                   Nest Makers         9.30   \n",
       "35                                     GHR Infra         2.12   \n",
       "36                               Dinesh Projects         9.86   \n",
       "37  Namishree Infrastructure And Project Pvt Ltd         1.02   \n",
       "38               Om Sree Builders And Developers         8.41   \n",
       "39                       Vazhraa Nirmaan Pvt Ltd         1.21   \n",
       "40                 Vajra Builders And Developers         4.47   \n",
       "41                                  Vasavi Group         1.82   \n",
       "42                                  Riddhi Group         7.58   \n",
       "43                Theme Ambience Infrastructures         1.80   \n",
       "44                             Signature Avenues         1.21   \n",
       "45                          Aavasa Constructions         1.52   \n",
       "46              Srija Infra Developers Hyderabad         4.67   \n",
       "47                             Cyber City Oriana         1.35   \n",
       "48                      Primark Projects Pvt Ltd         1.18   \n",
       "49                               Kalpataru Group         2.19   \n",
       "\n",
       "              Location  Area_sq_ft  House_size  Prices_per_sqft  \\\n",
       "0           Bowrampet         1535           3             4200   \n",
       "1          Kukatpally         2285           3             8000   \n",
       "2          Jeedimetla         1510           3             5800   \n",
       "3             Attapur         2655           4             6800   \n",
       "4              Kollur         2425           3             4999   \n",
       "5        Saroor Nagar         2345           3             6500   \n",
       "6          Dammaiguda         1139           2             4800   \n",
       "7          Kukatpally         1450           2             9310   \n",
       "8            Kompally         1515           3             4699   \n",
       "9        Sanath Nagar         2294           3             9546   \n",
       "10             Kollur         2000           3             3499   \n",
       "11           Mallapur         2187           3             4999   \n",
       "12           Ameenpur         1105           2             4900   \n",
       "13           Kompally         2160           3             5500   \n",
       "14         Harshaguda         9000           5            10334   \n",
       "15             Kollur         1195           2             5199   \n",
       "16         Bachupally         1039           2             4804   \n",
       "17           Saidabad         1705           3             6000   \n",
       "18  Gundlapochampally         1285           2             6102   \n",
       "19           Nizampet         1870           3             6500   \n",
       "20          Bowrampet         1535           3             4200   \n",
       "21         Kukatpally         2285           3             8000   \n",
       "22         Jeedimetla         1510           3             5800   \n",
       "23            Attapur         2655           4             6800   \n",
       "24             Kollur         2425           3             4999   \n",
       "25       Saroor Nagar         2345           3             6500   \n",
       "26         Dammaiguda         1139           2             4800   \n",
       "27         Kukatpally         1450           2             9310   \n",
       "28           Kompally         1515           3             4699   \n",
       "29       Sanath Nagar         2294           3             9546   \n",
       "30             Kollur         2000           3             3499   \n",
       "31           Mallapur         2187           3             4999   \n",
       "32           Ameenpur         1105           2             4900   \n",
       "33           Kompally         2160           3             5500   \n",
       "34         Harshaguda         9000           5            10334   \n",
       "35             Kollur         1195           2             5199   \n",
       "36         Bachupally         1039           2             4804   \n",
       "37           Saidabad         1705           3             6000   \n",
       "38  Gundlapochampally         1285           2             6102   \n",
       "39           Nizampet         1870           3             6500   \n",
       "40          Bowrampet         1535           3             4200   \n",
       "41         Kukatpally         2285           3             8000   \n",
       "42         Jeedimetla         1510           3             5800   \n",
       "43            Attapur         2655           4             6800   \n",
       "44             Kollur         2425           3             4999   \n",
       "45       Saroor Nagar         2345           3             6500   \n",
       "46         Dammaiguda         1139           2             4800   \n",
       "47         Kukatpally         1450           2             9310   \n",
       "48           Kompally         1515           3             4699   \n",
       "49       Sanath Nagar         2294           3             9546   \n",
       "\n",
       "       Building_Status  \n",
       "0   Under Construction  \n",
       "1        Ready to move  \n",
       "2   Under Construction  \n",
       "3   Under Construction  \n",
       "4   Under Construction  \n",
       "5   Under Construction  \n",
       "6   Under Construction  \n",
       "7   Under Construction  \n",
       "8   Under Construction  \n",
       "9   Under Construction  \n",
       "10  Under Construction  \n",
       "11  Under Construction  \n",
       "12  Under Construction  \n",
       "13  Under Construction  \n",
       "14  Under Construction  \n",
       "15  Under Construction  \n",
       "16  Under Construction  \n",
       "17  Under Construction  \n",
       "18  Under Construction  \n",
       "19  Under Construction  \n",
       "20  Under Construction  \n",
       "21       Ready to move  \n",
       "22  Under Construction  \n",
       "23  Under Construction  \n",
       "24  Under Construction  \n",
       "25  Under Construction  \n",
       "26  Under Construction  \n",
       "27  Under Construction  \n",
       "28  Under Construction  \n",
       "29  Under Construction  \n",
       "30  Under Construction  \n",
       "31  Under Construction  \n",
       "32  Under Construction  \n",
       "33  Under Construction  \n",
       "34  Under Construction  \n",
       "35  Under Construction  \n",
       "36  Under Construction  \n",
       "37  Under Construction  \n",
       "38  Under Construction  \n",
       "39  Under Construction  \n",
       "40  Under Construction  \n",
       "41       Ready to move  \n",
       "42  Under Construction  \n",
       "43  Under Construction  \n",
       "44  Under Construction  \n",
       "45  Under Construction  \n",
       "46  Under Construction  \n",
       "47  Under Construction  \n",
       "48  Under Construction  \n",
       "49  Under Construction  "
      ]
     },
     "execution_count": 62,
     "metadata": {},
     "output_type": "execute_result"
    }
   ],
   "source": [
    "data.head(50)"
   ]
  },
  {
   "cell_type": "code",
   "execution_count": 60,
   "id": "8fcb22c6",
   "metadata": {},
   "outputs": [
    {
     "name": "stdout",
     "output_type": "stream",
     "text": [
      "Enter location : Bowrampet \n",
      "enter building type : Apartment\n",
      "enter price : 4.47\n"
     ]
    },
    {
     "data": {
      "text/html": [
       "<div>\n",
       "<style scoped>\n",
       "    .dataframe tbody tr th:only-of-type {\n",
       "        vertical-align: middle;\n",
       "    }\n",
       "\n",
       "    .dataframe tbody tr th {\n",
       "        vertical-align: top;\n",
       "    }\n",
       "\n",
       "    .dataframe thead th {\n",
       "        text-align: right;\n",
       "    }\n",
       "</style>\n",
       "<table border=\"1\" class=\"dataframe\">\n",
       "  <thead>\n",
       "    <tr style=\"text-align: right;\">\n",
       "      <th></th>\n",
       "      <th>Building_Name</th>\n",
       "      <th>Building_type</th>\n",
       "      <th>Constructed_by</th>\n",
       "      <th>Price_in_cr</th>\n",
       "      <th>Location</th>\n",
       "      <th>Area_sq_ft</th>\n",
       "      <th>House_size</th>\n",
       "      <th>Prices_per_sqft</th>\n",
       "      <th>Building_Status</th>\n",
       "    </tr>\n",
       "  </thead>\n",
       "  <tbody>\n",
       "    <tr>\n",
       "      <th>0</th>\n",
       "      <td>Vajra The Royal Park</td>\n",
       "      <td>Apartment</td>\n",
       "      <td>Vajra Builders And Developers</td>\n",
       "      <td>4.47</td>\n",
       "      <td>Bowrampet</td>\n",
       "      <td>1535</td>\n",
       "      <td>3</td>\n",
       "      <td>4200</td>\n",
       "      <td>Under Construction</td>\n",
       "    </tr>\n",
       "    <tr>\n",
       "      <th>20</th>\n",
       "      <td>Vajra The Royal Park</td>\n",
       "      <td>Apartment</td>\n",
       "      <td>Vajra Builders And Developers</td>\n",
       "      <td>4.47</td>\n",
       "      <td>Bowrampet</td>\n",
       "      <td>1535</td>\n",
       "      <td>3</td>\n",
       "      <td>4200</td>\n",
       "      <td>Under Construction</td>\n",
       "    </tr>\n",
       "    <tr>\n",
       "      <th>40</th>\n",
       "      <td>Vajra The Royal Park</td>\n",
       "      <td>Apartment</td>\n",
       "      <td>Vajra Builders And Developers</td>\n",
       "      <td>4.47</td>\n",
       "      <td>Bowrampet</td>\n",
       "      <td>1535</td>\n",
       "      <td>3</td>\n",
       "      <td>4200</td>\n",
       "      <td>Under Construction</td>\n",
       "    </tr>\n",
       "    <tr>\n",
       "      <th>60</th>\n",
       "      <td>Vajra The Royal Park</td>\n",
       "      <td>Apartment</td>\n",
       "      <td>Vajra Builders And Developers</td>\n",
       "      <td>4.47</td>\n",
       "      <td>Bowrampet</td>\n",
       "      <td>1535</td>\n",
       "      <td>3</td>\n",
       "      <td>4200</td>\n",
       "      <td>Under Construction</td>\n",
       "    </tr>\n",
       "    <tr>\n",
       "      <th>80</th>\n",
       "      <td>Vajra The Royal Park</td>\n",
       "      <td>Apartment</td>\n",
       "      <td>Vajra Builders And Developers</td>\n",
       "      <td>4.47</td>\n",
       "      <td>Bowrampet</td>\n",
       "      <td>1535</td>\n",
       "      <td>3</td>\n",
       "      <td>4200</td>\n",
       "      <td>Under Construction</td>\n",
       "    </tr>\n",
       "    <tr>\n",
       "      <th>100</th>\n",
       "      <td>Vajra The Royal Park</td>\n",
       "      <td>Apartment</td>\n",
       "      <td>Vajra Builders And Developers</td>\n",
       "      <td>4.47</td>\n",
       "      <td>Bowrampet</td>\n",
       "      <td>1535</td>\n",
       "      <td>3</td>\n",
       "      <td>4200</td>\n",
       "      <td>Under Construction</td>\n",
       "    </tr>\n",
       "    <tr>\n",
       "      <th>120</th>\n",
       "      <td>Vajra The Royal Park</td>\n",
       "      <td>Apartment</td>\n",
       "      <td>Vajra Builders And Developers</td>\n",
       "      <td>4.47</td>\n",
       "      <td>Bowrampet</td>\n",
       "      <td>1535</td>\n",
       "      <td>3</td>\n",
       "      <td>4200</td>\n",
       "      <td>Under Construction</td>\n",
       "    </tr>\n",
       "    <tr>\n",
       "      <th>140</th>\n",
       "      <td>Vajra The Royal Park</td>\n",
       "      <td>Apartment</td>\n",
       "      <td>Vajra Builders And Developers</td>\n",
       "      <td>4.47</td>\n",
       "      <td>Bowrampet</td>\n",
       "      <td>1535</td>\n",
       "      <td>3</td>\n",
       "      <td>4200</td>\n",
       "      <td>Under Construction</td>\n",
       "    </tr>\n",
       "    <tr>\n",
       "      <th>160</th>\n",
       "      <td>Vajra The Royal Park</td>\n",
       "      <td>Apartment</td>\n",
       "      <td>Vajra Builders And Developers</td>\n",
       "      <td>4.47</td>\n",
       "      <td>Bowrampet</td>\n",
       "      <td>1535</td>\n",
       "      <td>3</td>\n",
       "      <td>4200</td>\n",
       "      <td>Under Construction</td>\n",
       "    </tr>\n",
       "    <tr>\n",
       "      <th>180</th>\n",
       "      <td>Vajra The Royal Park</td>\n",
       "      <td>Apartment</td>\n",
       "      <td>Vajra Builders And Developers</td>\n",
       "      <td>4.47</td>\n",
       "      <td>Bowrampet</td>\n",
       "      <td>1535</td>\n",
       "      <td>3</td>\n",
       "      <td>4200</td>\n",
       "      <td>Under Construction</td>\n",
       "    </tr>\n",
       "    <tr>\n",
       "      <th>200</th>\n",
       "      <td>Vajra The Royal Park</td>\n",
       "      <td>Apartment</td>\n",
       "      <td>Vajra Builders And Developers</td>\n",
       "      <td>4.47</td>\n",
       "      <td>Bowrampet</td>\n",
       "      <td>1535</td>\n",
       "      <td>3</td>\n",
       "      <td>4200</td>\n",
       "      <td>Under Construction</td>\n",
       "    </tr>\n",
       "    <tr>\n",
       "      <th>220</th>\n",
       "      <td>Vajra The Royal Park</td>\n",
       "      <td>Apartment</td>\n",
       "      <td>Vajra Builders And Developers</td>\n",
       "      <td>4.47</td>\n",
       "      <td>Bowrampet</td>\n",
       "      <td>1535</td>\n",
       "      <td>3</td>\n",
       "      <td>4200</td>\n",
       "      <td>Under Construction</td>\n",
       "    </tr>\n",
       "    <tr>\n",
       "      <th>240</th>\n",
       "      <td>Vajra The Royal Park</td>\n",
       "      <td>Apartment</td>\n",
       "      <td>Vajra Builders And Developers</td>\n",
       "      <td>4.47</td>\n",
       "      <td>Bowrampet</td>\n",
       "      <td>1535</td>\n",
       "      <td>3</td>\n",
       "      <td>4200</td>\n",
       "      <td>Under Construction</td>\n",
       "    </tr>\n",
       "    <tr>\n",
       "      <th>260</th>\n",
       "      <td>Vajra The Royal Park</td>\n",
       "      <td>Apartment</td>\n",
       "      <td>Vajra Builders And Developers</td>\n",
       "      <td>4.47</td>\n",
       "      <td>Bowrampet</td>\n",
       "      <td>1535</td>\n",
       "      <td>3</td>\n",
       "      <td>4200</td>\n",
       "      <td>Under Construction</td>\n",
       "    </tr>\n",
       "    <tr>\n",
       "      <th>280</th>\n",
       "      <td>Vajra The Royal Park</td>\n",
       "      <td>Apartment</td>\n",
       "      <td>Vajra Builders And Developers</td>\n",
       "      <td>4.47</td>\n",
       "      <td>Bowrampet</td>\n",
       "      <td>1535</td>\n",
       "      <td>3</td>\n",
       "      <td>4200</td>\n",
       "      <td>Under Construction</td>\n",
       "    </tr>\n",
       "    <tr>\n",
       "      <th>300</th>\n",
       "      <td>Vajra The Royal Park</td>\n",
       "      <td>Apartment</td>\n",
       "      <td>Vajra Builders And Developers</td>\n",
       "      <td>4.47</td>\n",
       "      <td>Bowrampet</td>\n",
       "      <td>1535</td>\n",
       "      <td>3</td>\n",
       "      <td>4200</td>\n",
       "      <td>Under Construction</td>\n",
       "    </tr>\n",
       "    <tr>\n",
       "      <th>320</th>\n",
       "      <td>Vajra The Royal Park</td>\n",
       "      <td>Apartment</td>\n",
       "      <td>Vajra Builders And Developers</td>\n",
       "      <td>4.47</td>\n",
       "      <td>Bowrampet</td>\n",
       "      <td>1535</td>\n",
       "      <td>3</td>\n",
       "      <td>4200</td>\n",
       "      <td>Under Construction</td>\n",
       "    </tr>\n",
       "    <tr>\n",
       "      <th>340</th>\n",
       "      <td>Vajra The Royal Park</td>\n",
       "      <td>Apartment</td>\n",
       "      <td>Vajra Builders And Developers</td>\n",
       "      <td>4.47</td>\n",
       "      <td>Bowrampet</td>\n",
       "      <td>1535</td>\n",
       "      <td>3</td>\n",
       "      <td>4200</td>\n",
       "      <td>Under Construction</td>\n",
       "    </tr>\n",
       "    <tr>\n",
       "      <th>360</th>\n",
       "      <td>Vajra The Royal Park</td>\n",
       "      <td>Apartment</td>\n",
       "      <td>Vajra Builders And Developers</td>\n",
       "      <td>4.47</td>\n",
       "      <td>Bowrampet</td>\n",
       "      <td>1535</td>\n",
       "      <td>3</td>\n",
       "      <td>4200</td>\n",
       "      <td>Under Construction</td>\n",
       "    </tr>\n",
       "    <tr>\n",
       "      <th>380</th>\n",
       "      <td>Vajra The Royal Park</td>\n",
       "      <td>Apartment</td>\n",
       "      <td>Vajra Builders And Developers</td>\n",
       "      <td>4.47</td>\n",
       "      <td>Bowrampet</td>\n",
       "      <td>1535</td>\n",
       "      <td>3</td>\n",
       "      <td>4200</td>\n",
       "      <td>Under Construction</td>\n",
       "    </tr>\n",
       "    <tr>\n",
       "      <th>400</th>\n",
       "      <td>Vajra The Royal Park</td>\n",
       "      <td>Apartment</td>\n",
       "      <td>Vajra Builders And Developers</td>\n",
       "      <td>4.47</td>\n",
       "      <td>Bowrampet</td>\n",
       "      <td>1535</td>\n",
       "      <td>3</td>\n",
       "      <td>4200</td>\n",
       "      <td>Under Construction</td>\n",
       "    </tr>\n",
       "  </tbody>\n",
       "</table>\n",
       "</div>"
      ],
      "text/plain": [
       "            Building_Name Building_type                 Constructed_by  \\\n",
       "0    Vajra The Royal Park     Apartment  Vajra Builders And Developers   \n",
       "20   Vajra The Royal Park     Apartment  Vajra Builders And Developers   \n",
       "40   Vajra The Royal Park     Apartment  Vajra Builders And Developers   \n",
       "60   Vajra The Royal Park     Apartment  Vajra Builders And Developers   \n",
       "80   Vajra The Royal Park     Apartment  Vajra Builders And Developers   \n",
       "100  Vajra The Royal Park     Apartment  Vajra Builders And Developers   \n",
       "120  Vajra The Royal Park     Apartment  Vajra Builders And Developers   \n",
       "140  Vajra The Royal Park     Apartment  Vajra Builders And Developers   \n",
       "160  Vajra The Royal Park     Apartment  Vajra Builders And Developers   \n",
       "180  Vajra The Royal Park     Apartment  Vajra Builders And Developers   \n",
       "200  Vajra The Royal Park     Apartment  Vajra Builders And Developers   \n",
       "220  Vajra The Royal Park     Apartment  Vajra Builders And Developers   \n",
       "240  Vajra The Royal Park     Apartment  Vajra Builders And Developers   \n",
       "260  Vajra The Royal Park     Apartment  Vajra Builders And Developers   \n",
       "280  Vajra The Royal Park     Apartment  Vajra Builders And Developers   \n",
       "300  Vajra The Royal Park     Apartment  Vajra Builders And Developers   \n",
       "320  Vajra The Royal Park     Apartment  Vajra Builders And Developers   \n",
       "340  Vajra The Royal Park     Apartment  Vajra Builders And Developers   \n",
       "360  Vajra The Royal Park     Apartment  Vajra Builders And Developers   \n",
       "380  Vajra The Royal Park     Apartment  Vajra Builders And Developers   \n",
       "400  Vajra The Royal Park     Apartment  Vajra Builders And Developers   \n",
       "\n",
       "     Price_in_cr    Location  Area_sq_ft  House_size  Prices_per_sqft  \\\n",
       "0           4.47  Bowrampet         1535           3             4200   \n",
       "20          4.47  Bowrampet         1535           3             4200   \n",
       "40          4.47  Bowrampet         1535           3             4200   \n",
       "60          4.47  Bowrampet         1535           3             4200   \n",
       "80          4.47  Bowrampet         1535           3             4200   \n",
       "100         4.47  Bowrampet         1535           3             4200   \n",
       "120         4.47  Bowrampet         1535           3             4200   \n",
       "140         4.47  Bowrampet         1535           3             4200   \n",
       "160         4.47  Bowrampet         1535           3             4200   \n",
       "180         4.47  Bowrampet         1535           3             4200   \n",
       "200         4.47  Bowrampet         1535           3             4200   \n",
       "220         4.47  Bowrampet         1535           3             4200   \n",
       "240         4.47  Bowrampet         1535           3             4200   \n",
       "260         4.47  Bowrampet         1535           3             4200   \n",
       "280         4.47  Bowrampet         1535           3             4200   \n",
       "300         4.47  Bowrampet         1535           3             4200   \n",
       "320         4.47  Bowrampet         1535           3             4200   \n",
       "340         4.47  Bowrampet         1535           3             4200   \n",
       "360         4.47  Bowrampet         1535           3             4200   \n",
       "380         4.47  Bowrampet         1535           3             4200   \n",
       "400         4.47  Bowrampet         1535           3             4200   \n",
       "\n",
       "        Building_Status  \n",
       "0    Under Construction  \n",
       "20   Under Construction  \n",
       "40   Under Construction  \n",
       "60   Under Construction  \n",
       "80   Under Construction  \n",
       "100  Under Construction  \n",
       "120  Under Construction  \n",
       "140  Under Construction  \n",
       "160  Under Construction  \n",
       "180  Under Construction  \n",
       "200  Under Construction  \n",
       "220  Under Construction  \n",
       "240  Under Construction  \n",
       "260  Under Construction  \n",
       "280  Under Construction  \n",
       "300  Under Construction  \n",
       "320  Under Construction  \n",
       "340  Under Construction  \n",
       "360  Under Construction  \n",
       "380  Under Construction  \n",
       "400  Under Construction  "
      ]
     },
     "execution_count": 60,
     "metadata": {},
     "output_type": "execute_result"
    }
   ],
   "source": [
    "location=input(\"Enter location : \")\n",
    "building_type=input(\"enter building type : \")\n",
    "price=float(input(\"enter price : \"))\n",
    "a=data[(data[\"Location\"]==location) & (data[\"Building_type\"]==building_type) & (data[\"Price_in_cr\"]==price)]\n",
    "a"
   ]
  },
  {
   "cell_type": "code",
   "execution_count": 56,
   "id": "6b750893",
   "metadata": {},
   "outputs": [
    {
     "data": {
      "text/plain": [
       "'Bowrampet '"
      ]
     },
     "execution_count": 56,
     "metadata": {},
     "output_type": "execute_result"
    }
   ],
   "source": [
    "data[\"Location\"][0]"
   ]
  },
  {
   "cell_type": "code",
   "execution_count": 58,
   "id": "c2fe9e65",
   "metadata": {},
   "outputs": [
    {
     "data": {
      "text/plain": [
       "'Apartment'"
      ]
     },
     "execution_count": 58,
     "metadata": {},
     "output_type": "execute_result"
    }
   ],
   "source": [
    "data[\"Building_type\"][0]"
   ]
  },
  {
   "cell_type": "code",
   "execution_count": 59,
   "id": "0053e790",
   "metadata": {},
   "outputs": [
    {
     "data": {
      "text/plain": [
       "4.47"
      ]
     },
     "execution_count": 59,
     "metadata": {},
     "output_type": "execute_result"
    }
   ],
   "source": [
    "data[\"Price_in_cr\"][0]"
   ]
  },
  {
   "cell_type": "code",
   "execution_count": 63,
   "id": "73542501",
   "metadata": {},
   "outputs": [
    {
     "data": {
      "text/html": [
       "<div>\n",
       "<style scoped>\n",
       "    .dataframe tbody tr th:only-of-type {\n",
       "        vertical-align: middle;\n",
       "    }\n",
       "\n",
       "    .dataframe tbody tr th {\n",
       "        vertical-align: top;\n",
       "    }\n",
       "\n",
       "    .dataframe thead th {\n",
       "        text-align: right;\n",
       "    }\n",
       "</style>\n",
       "<table border=\"1\" class=\"dataframe\">\n",
       "  <thead>\n",
       "    <tr style=\"text-align: right;\">\n",
       "      <th></th>\n",
       "      <th>Building_Name</th>\n",
       "      <th>Building_type</th>\n",
       "      <th>Constructed_by</th>\n",
       "      <th>Price_in_cr</th>\n",
       "      <th>Location</th>\n",
       "      <th>Area_sq_ft</th>\n",
       "      <th>House_size</th>\n",
       "      <th>Prices_per_sqft</th>\n",
       "      <th>Building_Status</th>\n",
       "    </tr>\n",
       "  </thead>\n",
       "  <tbody>\n",
       "    <tr>\n",
       "      <th>0</th>\n",
       "      <td>Vajra The Royal Park</td>\n",
       "      <td>Apartment</td>\n",
       "      <td>Vajra Builders And Developers</td>\n",
       "      <td>4.47</td>\n",
       "      <td>Bowrampet</td>\n",
       "      <td>1535</td>\n",
       "      <td>3</td>\n",
       "      <td>4200</td>\n",
       "      <td>Under Construction</td>\n",
       "    </tr>\n",
       "  </tbody>\n",
       "</table>\n",
       "</div>"
      ],
      "text/plain": [
       "          Building_Name Building_type                 Constructed_by  \\\n",
       "0  Vajra The Royal Park     Apartment  Vajra Builders And Developers   \n",
       "\n",
       "   Price_in_cr    Location  Area_sq_ft  House_size  Prices_per_sqft  \\\n",
       "0         4.47  Bowrampet         1535           3             4200   \n",
       "\n",
       "      Building_Status  \n",
       "0  Under Construction  "
      ]
     },
     "execution_count": 63,
     "metadata": {},
     "output_type": "execute_result"
    }
   ],
   "source": [
    "data.head(1)"
   ]
  },
  {
   "cell_type": "code",
   "execution_count": 76,
   "id": "88f4ce00",
   "metadata": {},
   "outputs": [
    {
     "data": {
      "text/html": [
       "<div>\n",
       "<style scoped>\n",
       "    .dataframe tbody tr th:only-of-type {\n",
       "        vertical-align: middle;\n",
       "    }\n",
       "\n",
       "    .dataframe tbody tr th {\n",
       "        vertical-align: top;\n",
       "    }\n",
       "\n",
       "    .dataframe thead th {\n",
       "        text-align: right;\n",
       "    }\n",
       "</style>\n",
       "<table border=\"1\" class=\"dataframe\">\n",
       "  <thead>\n",
       "    <tr style=\"text-align: right;\">\n",
       "      <th></th>\n",
       "      <th>Building_Name</th>\n",
       "      <th>Building_type</th>\n",
       "      <th>Constructed_by</th>\n",
       "      <th>Price_in_cr</th>\n",
       "      <th>Location</th>\n",
       "      <th>Area_sq_ft</th>\n",
       "      <th>House_size</th>\n",
       "      <th>Prices_per_sqft</th>\n",
       "      <th>Building_Status</th>\n",
       "    </tr>\n",
       "  </thead>\n",
       "  <tbody>\n",
       "    <tr>\n",
       "      <th>8</th>\n",
       "      <td>Primark De Stature</td>\n",
       "      <td>Apartment</td>\n",
       "      <td>Primark Projects Pvt Ltd</td>\n",
       "      <td>1.18</td>\n",
       "      <td>Kompally</td>\n",
       "      <td>1515</td>\n",
       "      <td>3</td>\n",
       "      <td>4699</td>\n",
       "      <td>Under Construction</td>\n",
       "    </tr>\n",
       "    <tr>\n",
       "      <th>17</th>\n",
       "      <td>Namishree BPS Twin Towers</td>\n",
       "      <td>Apartment</td>\n",
       "      <td>Namishree Infrastructure And Project Pvt Ltd</td>\n",
       "      <td>1.02</td>\n",
       "      <td>Saidabad</td>\n",
       "      <td>1705</td>\n",
       "      <td>3</td>\n",
       "      <td>6000</td>\n",
       "      <td>Under Construction</td>\n",
       "    </tr>\n",
       "    <tr>\n",
       "      <th>19</th>\n",
       "      <td>Vazhraa Vazhraa Prathik</td>\n",
       "      <td>Apartment</td>\n",
       "      <td>Vazhraa Nirmaan Pvt Ltd</td>\n",
       "      <td>1.21</td>\n",
       "      <td>Nizampet</td>\n",
       "      <td>1870</td>\n",
       "      <td>3</td>\n",
       "      <td>6500</td>\n",
       "      <td>Under Construction</td>\n",
       "    </tr>\n",
       "    <tr>\n",
       "      <th>28</th>\n",
       "      <td>Primark De Stature</td>\n",
       "      <td>Apartment</td>\n",
       "      <td>Primark Projects Pvt Ltd</td>\n",
       "      <td>1.18</td>\n",
       "      <td>Kompally</td>\n",
       "      <td>1515</td>\n",
       "      <td>3</td>\n",
       "      <td>4699</td>\n",
       "      <td>Under Construction</td>\n",
       "    </tr>\n",
       "  </tbody>\n",
       "</table>\n",
       "</div>"
      ],
      "text/plain": [
       "                Building_Name Building_type  \\\n",
       "8          Primark De Stature     Apartment   \n",
       "17  Namishree BPS Twin Towers     Apartment   \n",
       "19    Vazhraa Vazhraa Prathik     Apartment   \n",
       "28         Primark De Stature     Apartment   \n",
       "\n",
       "                                  Constructed_by  Price_in_cr   Location  \\\n",
       "8                       Primark Projects Pvt Ltd         1.18  Kompally    \n",
       "17  Namishree Infrastructure And Project Pvt Ltd         1.02  Saidabad    \n",
       "19                       Vazhraa Nirmaan Pvt Ltd         1.21  Nizampet    \n",
       "28                      Primark Projects Pvt Ltd         1.18  Kompally    \n",
       "\n",
       "    Area_sq_ft  House_size  Prices_per_sqft     Building_Status  \n",
       "8         1515           3             4699  Under Construction  \n",
       "17        1705           3             6000  Under Construction  \n",
       "19        1870           3             6500  Under Construction  \n",
       "28        1515           3             4699  Under Construction  "
      ]
     },
     "execution_count": 76,
     "metadata": {},
     "output_type": "execute_result"
    }
   ],
   "source": [
    "data[(data[\"Price_in_cr\"]<1.5)& (data[\"House_size\"]==3)&(data[\"Area_sq_ft\"]<2000).head(30)]"
   ]
  },
  {
   "cell_type": "code",
   "execution_count": null,
   "id": "dc1856b7",
   "metadata": {},
   "outputs": [],
   "source": []
  }
 ],
 "metadata": {
  "kernelspec": {
   "display_name": "Python 3 (ipykernel)",
   "language": "python",
   "name": "python3"
  },
  "language_info": {
   "codemirror_mode": {
    "name": "ipython",
    "version": 3
   },
   "file_extension": ".py",
   "mimetype": "text/x-python",
   "name": "python",
   "nbconvert_exporter": "python",
   "pygments_lexer": "ipython3",
   "version": "3.9.12"
  }
 },
 "nbformat": 4,
 "nbformat_minor": 5
}
